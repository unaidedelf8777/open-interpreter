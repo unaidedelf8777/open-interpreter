{
 "cells": [
  {
   "cell_type": "code",
   "execution_count": 51,
   "metadata": {},
   "outputs": [
    {
     "data": {
      "text/html": [
       "<pre style=\"white-space:pre;overflow-x:auto;line-height:normal;font-family:Menlo,'DejaVu Sans Mono',consolas,'Courier New',monospace\">Interactive Docker shell. Type <span style=\"color: #008000; text-decoration-color: #008000\">'exit'</span> to quit.\n",
       "</pre>\n"
      ],
      "text/plain": [
       "Interactive Docker shell. Type \u001b[32m'exit'\u001b[0m to quit.\n"
      ]
     },
     "metadata": {},
     "output_type": "display_data"
    },
    {
     "data": {
      "text/html": [
       "<pre style=\"white-space:pre;overflow-x:auto;line-height:normal;font-family:Menlo,'DejaVu Sans Mono',consolas,'Courier New',monospace\">Reading from stdout:\n",
       "</pre>\n"
      ],
      "text/plain": [
       "Reading from stdout:\n"
      ]
     },
     "metadata": {},
     "output_type": "display_data"
    },
    {
     "data": {
      "text/html": [
       "<pre style=\"white-space:pre;overflow-x:auto;line-height:normal;font-family:Menlo,'DejaVu Sans Mono',consolas,'Courier New',monospace\">01000000000000271b5b3f32303034686e6f626f6479403635663464646136656261373a2f6d6e742f646174612420010000000000004365636\n",
       "86f2073757070700d0a1b5b3f323030346c0d73757070700d0a1b5b3f32303034686e6f626f6479403635663464646136656261373a2f6d6e74\n",
       "2f646174612420\n",
       "</pre>\n"
      ],
      "text/plain": [
       "01000000000000271b5b3f32303034686e6f626f6479403635663464646136656261373a2f6d6e742f646174612420010000000000004365636\n",
       "86f2073757070700d0a1b5b3f323030346c0d73757070700d0a1b5b3f32303034686e6f626f6479403635663464646136656261373a2f6d6e74\n",
       "2f646174612420\n"
      ]
     },
     "metadata": {},
     "output_type": "display_data"
    },
    {
     "data": {
      "text/html": [
       "<pre style=\"white-space:pre;overflow-x:auto;line-height:normal;font-family:Menlo,'DejaVu Sans Mono',consolas,'Courier New',monospace\">nobody@65f4dda6eba7:<span style=\"color: #800080; text-decoration-color: #800080\">/mnt/</span><span style=\"color: #ff00ff; text-decoration-color: #ff00ff\">data</span>$ echo suppp\n",
       "</pre>\n"
      ],
      "text/plain": [
       "nobody@65f4dda6eba7:\u001b[35m/mnt/\u001b[0m\u001b[95mdata\u001b[0m$ echo suppp\n"
      ]
     },
     "metadata": {},
     "output_type": "display_data"
    },
    {
     "data": {
      "text/html": [
       "<pre style=\"white-space:pre;overflow-x:auto;line-height:normal;font-family:Menlo,'DejaVu Sans Mono',consolas,'Courier New',monospace\">suppp\n",
       "</pre>\n"
      ],
      "text/plain": [
       "suppp\n"
      ]
     },
     "metadata": {},
     "output_type": "display_data"
    },
    {
     "data": {
      "text/html": [
       "<pre style=\"white-space:pre;overflow-x:auto;line-height:normal;font-family:Menlo,'DejaVu Sans Mono',consolas,'Courier New',monospace\">nobody@65f4dda6eba7:<span style=\"color: #800080; text-decoration-color: #800080\">/mnt/</span><span style=\"color: #ff00ff; text-decoration-color: #ff00ff\">data</span>$\n",
       "</pre>\n"
      ],
      "text/plain": [
       "nobody@65f4dda6eba7:\u001b[35m/mnt/\u001b[0m\u001b[95mdata\u001b[0m$\n"
      ]
     },
     "metadata": {},
     "output_type": "display_data"
    },
    {
     "ename": "KeyboardInterrupt",
     "evalue": "",
     "output_type": "error",
     "traceback": [
      "\u001b[0;31m---------------------------------------------------------------------------\u001b[0m",
      "\u001b[0;31mKeyboardInterrupt\u001b[0m                         Traceback (most recent call last)",
      "\u001b[1;32m/workspaces/open-interpreter/interpreter/test.ipynb Cell 1\u001b[0m line \u001b[0;36m1\n\u001b[1;32m    <a href='vscode-notebook-cell://codespaces%2Bjubilant-space-broccoli-5wgj4g5p5j5h7g6r/workspaces/open-interpreter/interpreter/test.ipynb#W0sdnNjb2RlLXJlbW90ZQ%3D%3D?line=160'>161</a>\u001b[0m     \u001b[39mdel\u001b[39;00m wrapper\n\u001b[1;32m    <a href='vscode-notebook-cell://codespaces%2Bjubilant-space-broccoli-5wgj4g5p5j5h7g6r/workspaces/open-interpreter/interpreter/test.ipynb#W0sdnNjb2RlLXJlbW90ZQ%3D%3D?line=162'>163</a>\u001b[0m \u001b[39mif\u001b[39;00m \u001b[39m__name__\u001b[39m \u001b[39m==\u001b[39m \u001b[39m'\u001b[39m\u001b[39m__main__\u001b[39m\u001b[39m'\u001b[39m:\n\u001b[0;32m--> <a href='vscode-notebook-cell://codespaces%2Bjubilant-space-broccoli-5wgj4g5p5j5h7g6r/workspaces/open-interpreter/interpreter/test.ipynb#W0sdnNjb2RlLXJlbW90ZQ%3D%3D?line=163'>164</a>\u001b[0m     test_docker_wrapper()\n",
      "\u001b[1;32m/workspaces/open-interpreter/interpreter/test.ipynb Cell 1\u001b[0m line \u001b[0;36m1\n\u001b[1;32m    <a href='vscode-notebook-cell://codespaces%2Bjubilant-space-broccoli-5wgj4g5p5j5h7g6r/workspaces/open-interpreter/interpreter/test.ipynb#W0sdnNjb2RlLXJlbW90ZQ%3D%3D?line=150'>151</a>\u001b[0m \u001b[39m# Read from stdout and stderr\u001b[39;00m\n\u001b[1;32m    <a href='vscode-notebook-cell://codespaces%2Bjubilant-space-broccoli-5wgj4g5p5j5h7g6r/workspaces/open-interpreter/interpreter/test.ipynb#W0sdnNjb2RlLXJlbW90ZQ%3D%3D?line=151'>152</a>\u001b[0m \u001b[39mprint\u001b[39m(\u001b[39m\"\u001b[39m\u001b[39mReading from stdout:\u001b[39m\u001b[39m\"\u001b[39m)\n\u001b[0;32m--> <a href='vscode-notebook-cell://codespaces%2Bjubilant-space-broccoli-5wgj4g5p5j5h7g6r/workspaces/open-interpreter/interpreter/test.ipynb#W0sdnNjb2RlLXJlbW90ZQ%3D%3D?line=152'>153</a>\u001b[0m \u001b[39mfor\u001b[39;00m line \u001b[39min\u001b[39;00m \u001b[39miter\u001b[39m(wrapper\u001b[39m.\u001b[39mstdout\u001b[39m.\u001b[39mreadline, \u001b[39m\"\u001b[39m\u001b[39m\"\u001b[39m):\n\u001b[1;32m    <a href='vscode-notebook-cell://codespaces%2Bjubilant-space-broccoli-5wgj4g5p5j5h7g6r/workspaces/open-interpreter/interpreter/test.ipynb#W0sdnNjb2RlLXJlbW90ZQ%3D%3D?line=153'>154</a>\u001b[0m     \u001b[39mprint\u001b[39m( line)\n\u001b[1;32m    <a href='vscode-notebook-cell://codespaces%2Bjubilant-space-broccoli-5wgj4g5p5j5h7g6r/workspaces/open-interpreter/interpreter/test.ipynb#W0sdnNjb2RlLXJlbW90ZQ%3D%3D?line=155'>156</a>\u001b[0m \u001b[39mprint\u001b[39m(\u001b[39m\"\u001b[39m\u001b[39mReading from stderr:\u001b[39m\u001b[39m\"\u001b[39m)\n",
      "\u001b[1;32m/workspaces/open-interpreter/interpreter/test.ipynb Cell 1\u001b[0m line \u001b[0;36m4\n\u001b[1;32m     <a href='vscode-notebook-cell://codespaces%2Bjubilant-space-broccoli-5wgj4g5p5j5h7g6r/workspaces/open-interpreter/interpreter/test.ipynb#W0sdnNjb2RlLXJlbW90ZQ%3D%3D?line=38'>39</a>\u001b[0m \u001b[39mdef\u001b[39;00m \u001b[39mreadline\u001b[39m(\u001b[39mself\u001b[39m):\n\u001b[1;32m     <a href='vscode-notebook-cell://codespaces%2Bjubilant-space-broccoli-5wgj4g5p5j5h7g6r/workspaces/open-interpreter/interpreter/test.ipynb#W0sdnNjb2RlLXJlbW90ZQ%3D%3D?line=39'>40</a>\u001b[0m     \u001b[39mwhile\u001b[39;00m \u001b[39mself\u001b[39m\u001b[39m.\u001b[39m_line_queue\u001b[39m.\u001b[39mempty():\n\u001b[0;32m---> <a href='vscode-notebook-cell://codespaces%2Bjubilant-space-broccoli-5wgj4g5p5j5h7g6r/workspaces/open-interpreter/interpreter/test.ipynb#W0sdnNjb2RlLXJlbW90ZQ%3D%3D?line=40'>41</a>\u001b[0m         raw_data \u001b[39m=\u001b[39m \u001b[39mself\u001b[39;49m\u001b[39m.\u001b[39;49m_sock\u001b[39m.\u001b[39;49mrecv(\u001b[39m2048\u001b[39;49m)\n\u001b[1;32m     <a href='vscode-notebook-cell://codespaces%2Bjubilant-space-broccoli-5wgj4g5p5j5h7g6r/workspaces/open-interpreter/interpreter/test.ipynb#W0sdnNjb2RlLXJlbW90ZQ%3D%3D?line=41'>42</a>\u001b[0m         \u001b[39mprint\u001b[39m(raw_data\u001b[39m.\u001b[39mhex())\n\u001b[1;32m     <a href='vscode-notebook-cell://codespaces%2Bjubilant-space-broccoli-5wgj4g5p5j5h7g6r/workspaces/open-interpreter/interpreter/test.ipynb#W0sdnNjb2RlLXJlbW90ZQ%3D%3D?line=42'>43</a>\u001b[0m         stdout, stderr \u001b[39m=\u001b[39m \u001b[39mself\u001b[39m\u001b[39m.\u001b[39mdemux_docker_stream(raw_data)\n",
      "\u001b[0;31mKeyboardInterrupt\u001b[0m: "
     ]
    }
   ],
   "source": [
    "import time\n",
    "import docker \n",
    "import re\n",
    "import os\n",
    "import struct\n",
    "import queue\n",
    "\n",
    "class DockerStreamWrapper:\n",
    "    def __init__(self, exec_id, stream_type, sock):\n",
    "        self.exec_id = exec_id\n",
    "        self.stream_type = stream_type\n",
    "        self._sock = sock\n",
    "        self._buffer = \"\"\n",
    "        self._line_queue = queue.Queue()\n",
    "\n",
    "    def demux_docker_stream(self, data):\n",
    "        stdout = \"\"\n",
    "        stderr = \"\"\n",
    "        offset = 0\n",
    "        while offset + 8 <= len(data):\n",
    "            header = data[offset:offset + 8]\n",
    "            stream_type, length = struct.unpack('>BxxxL', header)\n",
    "            offset += 8\n",
    "            chunk = data[offset:offset + length].decode('utf-8')\n",
    "            offset += length\n",
    "            # Remove ANSI escape codes\n",
    "            chunk = re.sub(r'\\x1B[@-_][0-?]*[ -/]*[@-~]', '', chunk)\n",
    "            if stream_type == 1:\n",
    "                stdout += chunk\n",
    "            elif stream_type == 2:\n",
    "                stderr += chunk\n",
    "\n",
    "        if stdout and not stdout.endswith('\\n'):\n",
    "            stdout += '\\n'\n",
    "        if stderr and not stderr.endswith('\\n'):\n",
    "            stderr += '\\n'\n",
    "        return stdout, stderr\n",
    "\n",
    "    def readline(self):\n",
    "        while self._line_queue.empty():\n",
    "            raw_data = self._sock.recv(2048)\n",
    "            print(raw_data.hex())\n",
    "            stdout, stderr = self.demux_docker_stream(raw_data)\n",
    "            new_data = stdout if self.stream_type == 'stdout' else stderr\n",
    "            self._buffer += new_data\n",
    "\n",
    "            while '\\n' in self._buffer:\n",
    "                newline_pos = self._buffer.find('\\n')\n",
    "                line = self._buffer[:newline_pos]\n",
    "                self._buffer = self._buffer[newline_pos + 1:]\n",
    "                self._line_queue.put(line.strip())\n",
    "\n",
    "        return self._line_queue.get()\n",
    "\n",
    "    def write(self, data):\n",
    "        self._sock.sendall(data.encode())\n",
    "\n",
    "    def flush(self):\n",
    "        pass\n",
    "\n",
    "\n",
    "\n",
    "\n",
    "\n",
    "class DockerProcWrapper:\n",
    "    def __init__(self, command, session_path):\n",
    "        self.client = docker.from_env()\n",
    "        self.low_client = docker.APIClient()\n",
    "        self.image_name = \"openinterpreter-runtime-container:latest\"\n",
    "        self.session_path = session_path\n",
    "        self.id = os.path.basename(session_path)\n",
    "\n",
    "        # Initialize exec instance\n",
    "        self.init_exec_instance(command)\n",
    "\n",
    "        self._sock = self.low_client.exec_start(self.exec_id, socket=True)._sock\n",
    "\n",
    "        self.stdin = DockerStreamWrapper(self.exec_id, 'stdin', self._sock)\n",
    "        self.stdout = DockerStreamWrapper(self.exec_id, 'stdout', self._sock)\n",
    "        self.stderr = DockerStreamWrapper(self.exec_id, 'stderr', self._sock)\n",
    "\n",
    "    def init_exec_instance(self, command):\n",
    "        # Search for an existing container with the same session ID\n",
    "        existing_containers = self.client.containers.list(filters={\"label\": f\"session_id={self.id}\"}, all=True)\n",
    "\n",
    "        if existing_containers:\n",
    "            container = existing_containers[0]\n",
    "            if container.status != 'running' :\n",
    "                container.start()\n",
    "                timeout_seconds = 10  # 10 seconds timeout\n",
    "                start_time = time.time()\n",
    "\n",
    "                while container.status != 'running':\n",
    "                    elapsed_time = time.time() - start_time\n",
    "                    if elapsed_time > timeout_seconds:\n",
    "                        print(\"Error: Timed out waiting for container to start.\")\n",
    "                        return  # or raise an exception\n",
    "\n",
    "                    print(f\"Waiting for container to start... (Status: {container.status})\")\n",
    "                    time.sleep(1)\n",
    "                    container.reload()\n",
    "        else:\n",
    "            container = self.client.containers.run(\n",
    "                self.image_name,\n",
    "                detach=True,\n",
    "                command=\"/bin/bash -i\",  # Keep the container running with bash\n",
    "                labels={'session_id': self.id},\n",
    "                volumes={self.session_path: {'bind': '/mnt/data', 'mode': 'rw'}},\n",
    "                user=\"nobody\",  # Run as non-root user for security,\n",
    "                stdin_open = True,\n",
    "                tty=True\n",
    "            )\n",
    "            # Wait for container to start running\n",
    "            while container.status != 'running' and container.status != \"exited\":\n",
    "                time.sleep(1)\n",
    "                container.reload()\n",
    "\n",
    "        self.exec_id = self.low_client.exec_create(\n",
    "            container.id,\n",
    "            cmd=command,\n",
    "            stdin=True,\n",
    "            stdout=True,\n",
    "            stderr=True,\n",
    "            tty=True,\n",
    "            workdir=\"/mnt/data\"\n",
    "        )['Id']\n",
    "\n",
    "    def __del__(self):\n",
    "        if self.exec_id:\n",
    "            self.client.exec_remove(self.exec_id)\n",
    "\n",
    "import uuid\n",
    "def test_docker_wrapper():\n",
    "    # Initialize a DockerProcWrapper instance with bash in interactive mode\n",
    "    wrapper = DockerProcWrapper(\"python3 -i -q -u\", session_path=\"/workspaces/open-interpreter/interpreter/dockerfiles/ses-\" + str(uuid.uuid4()))\n",
    "\n",
    "    print(\"Interactive Docker shell. Type 'exit' to quit.\")\n",
    "\n",
    "    while True:\n",
    "        # Read user input\n",
    "        command = input(\">>> \")\n",
    "        \n",
    "        # Check for exit command\n",
    "        if command.lower() == 'exit':\n",
    "            break\n",
    "\n",
    "        # Send the command to the Docker container\n",
    "        wrapper.stdin.write(command + \"\\n\")\n",
    "        wrapper.stdin.flush()\n",
    "\n",
    "        # Read from stdout and stderr\n",
    "        print(\"Reading from stdout:\")\n",
    "        for line in iter(wrapper.stdout.readline, \"\"):\n",
    "            print( line)\n",
    "\n",
    "        print(\"Reading from stderr:\")\n",
    "        for line in iter(wrapper.stdout.readline, \"\"):\n",
    "            print(f\"STDERR: {line}\")\n",
    "\n",
    "    # Clean up\n",
    "    del wrapper\n",
    "\n",
    "if __name__ == '__main__':\n",
    "    test_docker_wrapper()\n"
   ]
  },
  {
   "cell_type": "markdown",
   "metadata": {},
   "source": []
  },
  {
   "cell_type": "code",
   "execution_count": 31,
   "metadata": {},
   "outputs": [
    {
     "data": {
      "text/plain": [
       "0"
      ]
     },
     "execution_count": 31,
     "metadata": {},
     "output_type": "execute_result"
    }
   ],
   "source": [
    "import gc\n",
    "gc.collect()"
   ]
  },
  {
   "cell_type": "code",
   "execution_count": 18,
   "metadata": {},
   "outputs": [
    {
     "data": {
      "text/html": [
       "<pre style=\"white-space:pre;overflow-x:auto;line-height:normal;font-family:Menlo,'DejaVu Sans Mono',consolas,'Courier New',monospace\">waiting for container start\n",
       "</pre>\n"
      ],
      "text/plain": [
       "waiting for container start\n"
      ]
     },
     "metadata": {},
     "output_type": "display_data"
    },
    {
     "data": {
      "text/html": [
       "<pre style=\"white-space:pre;overflow-x:auto;line-height:normal;font-family:Menlo,'DejaVu Sans Mono',consolas,'Courier New',monospace\">container started\n",
       "</pre>\n"
      ],
      "text/plain": [
       "container started\n"
      ]
     },
     "metadata": {},
     "output_type": "display_data"
    },
    {
     "ename": "AttributeError",
     "evalue": "'DockerProcWrapper' object has no attribute '_exec_socket'",
     "output_type": "error",
     "traceback": [
      "\u001b[0;31m---------------------------------------------------------------------------\u001b[0m",
      "\u001b[0;31mAttributeError\u001b[0m                            Traceback (most recent call last)",
      "\u001b[1;32m/workspaces/open-interpreter/interpreter/test.ipynb Cell 4\u001b[0m line \u001b[0;36m2\n\u001b[1;32m    <a href='vscode-notebook-cell://codespaces%2Bjubilant-space-broccoli-5wgj4g5p5j5h7g6r/workspaces/open-interpreter/interpreter/test.ipynb#W3sdnNjb2RlLXJlbW90ZQ%3D%3D?line=257'>258</a>\u001b[0m     \u001b[39mdel\u001b[39;00m wrapper\n\u001b[1;32m    <a href='vscode-notebook-cell://codespaces%2Bjubilant-space-broccoli-5wgj4g5p5j5h7g6r/workspaces/open-interpreter/interpreter/test.ipynb#W3sdnNjb2RlLXJlbW90ZQ%3D%3D?line=259'>260</a>\u001b[0m \u001b[39mif\u001b[39;00m \u001b[39m__name__\u001b[39m \u001b[39m==\u001b[39m\u001b[39m'\u001b[39m\u001b[39m__main__\u001b[39m\u001b[39m'\u001b[39m:\n\u001b[0;32m--> <a href='vscode-notebook-cell://codespaces%2Bjubilant-space-broccoli-5wgj4g5p5j5h7g6r/workspaces/open-interpreter/interpreter/test.ipynb#W3sdnNjb2RlLXJlbW90ZQ%3D%3D?line=260'>261</a>\u001b[0m     test_docker_wrapper()\n",
      "\u001b[1;32m/workspaces/open-interpreter/interpreter/test.ipynb Cell 4\u001b[0m line \u001b[0;36m2\n\u001b[1;32m    <a href='vscode-notebook-cell://codespaces%2Bjubilant-space-broccoli-5wgj4g5p5j5h7g6r/workspaces/open-interpreter/interpreter/test.ipynb#W3sdnNjb2RlLXJlbW90ZQ%3D%3D?line=223'>224</a>\u001b[0m \u001b[39mdef\u001b[39;00m \u001b[39mtest_docker_wrapper\u001b[39m():\n\u001b[1;32m    <a href='vscode-notebook-cell://codespaces%2Bjubilant-space-broccoli-5wgj4g5p5j5h7g6r/workspaces/open-interpreter/interpreter/test.ipynb#W3sdnNjb2RlLXJlbW90ZQ%3D%3D?line=224'>225</a>\u001b[0m     \u001b[39m# Initialize a DockerProcWrapper instance with bash in interactive mode\u001b[39;00m\n\u001b[0;32m--> <a href='vscode-notebook-cell://codespaces%2Bjubilant-space-broccoli-5wgj4g5p5j5h7g6r/workspaces/open-interpreter/interpreter/test.ipynb#W3sdnNjb2RlLXJlbW90ZQ%3D%3D?line=225'>226</a>\u001b[0m     wrapper \u001b[39m=\u001b[39m DockerProcWrapper(\u001b[39m\"\u001b[39;49m\u001b[39mpython3 \u001b[39;49m\u001b[39m\"\u001b[39;49m, session_path\u001b[39m=\u001b[39;49m\u001b[39m\"\u001b[39;49m\u001b[39m/workspaces/open-interpreter/interpreter/dockerfiles/ses-\u001b[39;49m\u001b[39m\"\u001b[39;49m \u001b[39m+\u001b[39;49m \u001b[39mstr\u001b[39;49m(uuid\u001b[39m.\u001b[39;49muuid4()))\n\u001b[1;32m    <a href='vscode-notebook-cell://codespaces%2Bjubilant-space-broccoli-5wgj4g5p5j5h7g6r/workspaces/open-interpreter/interpreter/test.ipynb#W3sdnNjb2RlLXJlbW90ZQ%3D%3D?line=227'>228</a>\u001b[0m     \u001b[39mprint\u001b[39m(\u001b[39m\"\u001b[39m\u001b[39mInteractive Docker shell. Type \u001b[39m\u001b[39m'\u001b[39m\u001b[39mexit\u001b[39m\u001b[39m'\u001b[39m\u001b[39m to quit.\u001b[39m\u001b[39m\"\u001b[39m)\n\u001b[1;32m    <a href='vscode-notebook-cell://codespaces%2Bjubilant-space-broccoli-5wgj4g5p5j5h7g6r/workspaces/open-interpreter/interpreter/test.ipynb#W3sdnNjb2RlLXJlbW90ZQ%3D%3D?line=229'>230</a>\u001b[0m     \u001b[39mwhile\u001b[39;00m \u001b[39mTrue\u001b[39;00m:\n\u001b[1;32m    <a href='vscode-notebook-cell://codespaces%2Bjubilant-space-broccoli-5wgj4g5p5j5h7g6r/workspaces/open-interpreter/interpreter/test.ipynb#W3sdnNjb2RlLXJlbW90ZQ%3D%3D?line=230'>231</a>\u001b[0m         \u001b[39m# Read user input\u001b[39;00m\n",
      "\u001b[1;32m/workspaces/open-interpreter/interpreter/test.ipynb Cell 4\u001b[0m line \u001b[0;36m1\n\u001b[1;32m    <a href='vscode-notebook-cell://codespaces%2Bjubilant-space-broccoli-5wgj4g5p5j5h7g6r/workspaces/open-interpreter/interpreter/test.ipynb#W3sdnNjb2RlLXJlbW90ZQ%3D%3D?line=108'>109</a>\u001b[0m \u001b[39m# Initialize container\u001b[39;00m\n\u001b[1;32m    <a href='vscode-notebook-cell://codespaces%2Bjubilant-space-broccoli-5wgj4g5p5j5h7g6r/workspaces/open-interpreter/interpreter/test.ipynb#W3sdnNjb2RlLXJlbW90ZQ%3D%3D?line=109'>110</a>\u001b[0m \u001b[39mself\u001b[39m\u001b[39m.\u001b[39minit_container()\n\u001b[0;32m--> <a href='vscode-notebook-cell://codespaces%2Bjubilant-space-broccoli-5wgj4g5p5j5h7g6r/workspaces/open-interpreter/interpreter/test.ipynb#W3sdnNjb2RlLXJlbW90ZQ%3D%3D?line=111'>112</a>\u001b[0m \u001b[39mself\u001b[39;49m\u001b[39m.\u001b[39;49minit_exec_instance(command)\n\u001b[1;32m    <a href='vscode-notebook-cell://codespaces%2Bjubilant-space-broccoli-5wgj4g5p5j5h7g6r/workspaces/open-interpreter/interpreter/test.ipynb#W3sdnNjb2RlLXJlbW90ZQ%3D%3D?line=114'>115</a>\u001b[0m \u001b[39mself\u001b[39m\u001b[39m.\u001b[39mstdin \u001b[39m=\u001b[39m DockerStreamWrapper(\n\u001b[1;32m    <a href='vscode-notebook-cell://codespaces%2Bjubilant-space-broccoli-5wgj4g5p5j5h7g6r/workspaces/open-interpreter/interpreter/test.ipynb#W3sdnNjb2RlLXJlbW90ZQ%3D%3D?line=115'>116</a>\u001b[0m     \u001b[39mself\u001b[39m\u001b[39m.\u001b[39mexec_id, \u001b[39m'\u001b[39m\u001b[39mstdin\u001b[39m\u001b[39m'\u001b[39m, \u001b[39mself\u001b[39m\u001b[39m.\u001b[39mexec_socket)\n\u001b[1;32m    <a href='vscode-notebook-cell://codespaces%2Bjubilant-space-broccoli-5wgj4g5p5j5h7g6r/workspaces/open-interpreter/interpreter/test.ipynb#W3sdnNjb2RlLXJlbW90ZQ%3D%3D?line=116'>117</a>\u001b[0m \u001b[39mself\u001b[39m\u001b[39m.\u001b[39mstdout \u001b[39m=\u001b[39m DockerStreamWrapper(\n\u001b[1;32m    <a href='vscode-notebook-cell://codespaces%2Bjubilant-space-broccoli-5wgj4g5p5j5h7g6r/workspaces/open-interpreter/interpreter/test.ipynb#W3sdnNjb2RlLXJlbW90ZQ%3D%3D?line=117'>118</a>\u001b[0m     \u001b[39mself\u001b[39m\u001b[39m.\u001b[39mexec_id, \u001b[39m'\u001b[39m\u001b[39mstdout\u001b[39m\u001b[39m'\u001b[39m, \u001b[39mself\u001b[39m\u001b[39m.\u001b[39mexec_socket)\n",
      "\u001b[1;32m/workspaces/open-interpreter/interpreter/test.ipynb Cell 4\u001b[0m line \u001b[0;36m1\n\u001b[1;32m    <a href='vscode-notebook-cell://codespaces%2Bjubilant-space-broccoli-5wgj4g5p5j5h7g6r/workspaces/open-interpreter/interpreter/test.ipynb#W3sdnNjb2RlLXJlbW90ZQ%3D%3D?line=161'>162</a>\u001b[0m \u001b[39mself\u001b[39m\u001b[39m.\u001b[39mexec_id \u001b[39m=\u001b[39m \u001b[39mself\u001b[39m\u001b[39m.\u001b[39mclient\u001b[39m.\u001b[39mexec_create(\n\u001b[1;32m    <a href='vscode-notebook-cell://codespaces%2Bjubilant-space-broccoli-5wgj4g5p5j5h7g6r/workspaces/open-interpreter/interpreter/test.ipynb#W3sdnNjb2RlLXJlbW90ZQ%3D%3D?line=162'>163</a>\u001b[0m     \u001b[39mself\u001b[39m\u001b[39m.\u001b[39mcontainer\u001b[39m.\u001b[39mid,\n\u001b[1;32m    <a href='vscode-notebook-cell://codespaces%2Bjubilant-space-broccoli-5wgj4g5p5j5h7g6r/workspaces/open-interpreter/interpreter/test.ipynb#W3sdnNjb2RlLXJlbW90ZQ%3D%3D?line=163'>164</a>\u001b[0m     cmd\u001b[39m=\u001b[39mcommand,\n\u001b[0;32m   (...)\u001b[0m\n\u001b[1;32m    <a href='vscode-notebook-cell://codespaces%2Bjubilant-space-broccoli-5wgj4g5p5j5h7g6r/workspaces/open-interpreter/interpreter/test.ipynb#W3sdnNjb2RlLXJlbW90ZQ%3D%3D?line=170'>171</a>\u001b[0m \n\u001b[1;32m    <a href='vscode-notebook-cell://codespaces%2Bjubilant-space-broccoli-5wgj4g5p5j5h7g6r/workspaces/open-interpreter/interpreter/test.ipynb#W3sdnNjb2RlLXJlbW90ZQ%3D%3D?line=171'>172</a>\u001b[0m )[\u001b[39m'\u001b[39m\u001b[39mId\u001b[39m\u001b[39m'\u001b[39m]\n\u001b[1;32m    <a href='vscode-notebook-cell://codespaces%2Bjubilant-space-broccoli-5wgj4g5p5j5h7g6r/workspaces/open-interpreter/interpreter/test.ipynb#W3sdnNjb2RlLXJlbW90ZQ%3D%3D?line=172'>173</a>\u001b[0m \u001b[39mself\u001b[39m\u001b[39m.\u001b[39mexec_socket \u001b[39m=\u001b[39m \u001b[39mself\u001b[39m\u001b[39m.\u001b[39mclient\u001b[39m.\u001b[39mexec_start(\n\u001b[1;32m    <a href='vscode-notebook-cell://codespaces%2Bjubilant-space-broccoli-5wgj4g5p5j5h7g6r/workspaces/open-interpreter/interpreter/test.ipynb#W3sdnNjb2RlLXJlbW90ZQ%3D%3D?line=173'>174</a>\u001b[0m     \u001b[39mself\u001b[39m\u001b[39m.\u001b[39mexec_id, socket\u001b[39m=\u001b[39m\u001b[39mTrue\u001b[39;00m, tty\u001b[39m=\u001b[39m\u001b[39mFalse\u001b[39;00m, demux\u001b[39m=\u001b[39m\u001b[39mTrue\u001b[39;00m)\u001b[39m.\u001b[39m_sock\n\u001b[0;32m--> <a href='vscode-notebook-cell://codespaces%2Bjubilant-space-broccoli-5wgj4g5p5j5h7g6r/workspaces/open-interpreter/interpreter/test.ipynb#W3sdnNjb2RlLXJlbW90ZQ%3D%3D?line=175'>176</a>\u001b[0m \u001b[39mself\u001b[39;49m\u001b[39m.\u001b[39;49m_exec_socket \n\u001b[1;32m    <a href='vscode-notebook-cell://codespaces%2Bjubilant-space-broccoli-5wgj4g5p5j5h7g6r/workspaces/open-interpreter/interpreter/test.ipynb#W3sdnNjb2RlLXJlbW90ZQ%3D%3D?line=176'>177</a>\u001b[0m \u001b[39mprint\u001b[39m(\u001b[39mf\u001b[39m\u001b[39m\"\u001b[39m\u001b[39mAttributes and Methods of \u001b[39m\u001b[39m{\u001b[39;00m\u001b[39mself\u001b[39m\u001b[39m.\u001b[39mexec_socket\u001b[39m.\u001b[39m\u001b[39m__class__\u001b[39m\u001b[39m.\u001b[39m\u001b[39m__name__\u001b[39m\u001b[39m}\u001b[39;00m\u001b[39m:\u001b[39m\u001b[39m\"\u001b[39m)\n\u001b[1;32m    <a href='vscode-notebook-cell://codespaces%2Bjubilant-space-broccoli-5wgj4g5p5j5h7g6r/workspaces/open-interpreter/interpreter/test.ipynb#W3sdnNjb2RlLXJlbW90ZQ%3D%3D?line=177'>178</a>\u001b[0m \u001b[39mfor\u001b[39;00m attr_name \u001b[39min\u001b[39;00m \u001b[39mdir\u001b[39m(\u001b[39mself\u001b[39m\u001b[39m.\u001b[39mexec_socket):\n\u001b[1;32m    <a href='vscode-notebook-cell://codespaces%2Bjubilant-space-broccoli-5wgj4g5p5j5h7g6r/workspaces/open-interpreter/interpreter/test.ipynb#W3sdnNjb2RlLXJlbW90ZQ%3D%3D?line=178'>179</a>\u001b[0m     \u001b[39m# Filter out special methods and attributes (those starting with \"__\")\u001b[39;00m\n",
      "\u001b[0;31mAttributeError\u001b[0m: 'DockerProcWrapper' object has no attribute '_exec_socket'"
     ]
    }
   ],
   "source": [
    "import struct\n",
    "from docker import DockerClient\n",
    "import docker\n",
    "import os\n",
    "from rich import print\n",
    "import re\n",
    "import time\n",
    "import queue\n",
    "import select\n",
    "\n",
    "\n",
    "\n",
    "class DockerStreamWrapper:\n",
    "    def __init__(self, exec_id, stream_type, sock):\n",
    "        self.exec_id = exec_id\n",
    "        self.stream_type = stream_type\n",
    "        self._sock = sock\n",
    "        self._buffer = \"\"\n",
    "        self._line_queue = queue.Queue()\n",
    "\n",
    "    def demux_docker_stream(self, data):\n",
    "        stdout = \"\"\n",
    "        stderr = \"\"\n",
    "        offset = 0\n",
    "        while offset + 8 <= len(data):\n",
    "            header = data[offset:offset + 8]\n",
    "            stream_type, length = struct.unpack('>BxxxL', header)\n",
    "            offset += 8\n",
    "            chunk = data[offset:offset + length].decode('utf-8')\n",
    "            offset += length\n",
    "            if stream_type == 1:\n",
    "                stdout += chunk\n",
    "            elif stream_type == 2:\n",
    "                stderr += chunk\n",
    "\n",
    "        if stdout and not stdout.endswith('\\n'):\n",
    "            stdout += '\\n'\n",
    "        if stderr and not stderr.endswith('\\n'):\n",
    "            stderr += '\\n'\n",
    "        return stdout, stderr\n",
    "\n",
    "    def readline(self, timeout=3):\n",
    "        while self._line_queue.empty():\n",
    "            ready_to_read, _, _ = select.select([self._sock], [], [], timeout)\n",
    "            \n",
    "            if not ready_to_read:\n",
    "                return \"\"\n",
    "\n",
    "            raw_data = self._sock.recv(2048)\n",
    "            stdout, stderr = self.demux_docker_stream(raw_data)\n",
    "            new_data = stdout if self.stream_type == 'stdout' else stderr\n",
    "            self._buffer += new_data\n",
    "\n",
    "            while '\\n' in self._buffer:\n",
    "                newline_pos = self._buffer.find('\\n')\n",
    "                line = self._buffer[:newline_pos]\n",
    "                self._buffer = self._buffer[newline_pos + 1:]\n",
    "                self._line_queue.put(line.strip())\n",
    "\n",
    "        return self._line_queue.get()\n",
    "\n",
    "\n",
    "    def write(self, data):\n",
    "        commands = []\n",
    "        current_command = \"\"\n",
    "        escape_next = False  # Flag to indicate if the next character is part of an escape sequence\n",
    "\n",
    "        for char in data:\n",
    "            if escape_next:\n",
    "                if char == 'n':  # Newline\n",
    "                    if current_command.strip():\n",
    "                        commands.append(current_command.strip())\n",
    "                    current_command = \"\"\n",
    "                elif char == 'r':  # Carriage return\n",
    "                    current_command = \"\"\n",
    "                elif char == '\\\\':  # Backslash\n",
    "                    current_command += '\\\\\\\\'\n",
    "                else:  # Any other escaped character (e.g., \\t, \\', \\\")\n",
    "                    current_command += '\\\\' + char\n",
    "                escape_next = False\n",
    "            else:\n",
    "                if char == '\\\\':\n",
    "                    escape_next = True\n",
    "                else:\n",
    "                    current_command += char\n",
    "\n",
    "        # Add the last command if it's not empty and if it's not just a newline character.\n",
    "        if current_command.strip():\n",
    "            commands.append(current_command.strip())\n",
    "        \n",
    "        for command in commands:\n",
    "            self._sock.sendall(command.encode())\n",
    "            time.sleep(1)\n",
    "\n",
    "    def flush(self):\n",
    "        pass\n",
    "\n",
    "\n",
    "class DockerProcWrapper:\n",
    "    def __init__(self, command, session_path):\n",
    "        self.client = docker.APIClient()\n",
    "        self.image_name = \"openinterpreter-runtime-container:latest\"\n",
    "        self.session_path = session_path\n",
    "        self.id = os.path.basename(session_path)\n",
    "        self.lang = self.extract_language_from_command(command)\n",
    "        self.exec_id = None\n",
    "        self.exec_socket = None\n",
    "\n",
    "        # Initialize container\n",
    "        self.init_container()\n",
    "\n",
    "        self.init_exec_instance(command)\n",
    "        \n",
    "\n",
    "        self.stdin = DockerStreamWrapper(\n",
    "            self.exec_id, 'stdin', self.exec_socket)\n",
    "        self.stdout = DockerStreamWrapper(\n",
    "            self.exec_id, 'stdout', self.exec_socket)\n",
    "        self.stderr = DockerStreamWrapper(\n",
    "            self.exec_id, 'stderr', self.exec_socket)\n",
    "\n",
    "    def init_container(self):\n",
    "        self.container = None\n",
    "        try:\n",
    "            containers = self.client.containers(\n",
    "                filters={\"label\": f\"session_id={self.id}\"}, all=True)\n",
    "            if containers:\n",
    "                self.container = containers[0]\n",
    "                container_id = self.container.get('Id')\n",
    "                container_info = self.client.inspect_container(container_id)\n",
    "                if container_info.get('State', {}).get('Running') is False:\n",
    "                    print(container_info.get('State', {}))\n",
    "                    self.client.start(container=container_id)\n",
    "                    print(\"waiting for container start\")\n",
    "                    self.wait_for_container_start(container_id)\n",
    "                    print(\"container started\")\n",
    "            else:\n",
    "                volume_binding = {\n",
    "                    self.session_path: {'bind': '/mnt/data', 'mode': 'rw'}\n",
    "                }\n",
    "                env_client = docker.from_env()\n",
    "                self.container = env_client.containers.run(\n",
    "                self.image_name,\n",
    "                detach=True,\n",
    "                command=\"/bin/bash -i\",  # Keep the container running with bash\n",
    "                labels={'session_id': self.id},\n",
    "                volumes={self.session_path: {'bind': '/mnt/data', 'mode': 'rw'}},\n",
    "                user=\"nobody\",  # Run as non-root user for security,\n",
    "                stdin_open = True,\n",
    "                tty=True\n",
    "            )\n",
    "                self.client.start(container=self.container.id)\n",
    "                print(\"waiting for container start\")\n",
    "                self.wait_for_container_start(self.container.id)\n",
    "                print(\"container started\")\n",
    "\n",
    "        except Exception as e:\n",
    "            print(f\"An error occurred: {e}\")\n",
    "\n",
    "    def init_exec_instance(self, command):\n",
    "        if self.container:\n",
    "            self.exec_id = self.client.exec_create(\n",
    "                self.container.id,\n",
    "                cmd=command,\n",
    "                stdin=True,\n",
    "                stdout=True,\n",
    "                stderr=True,\n",
    "                workdir=\"/mnt/data\",\n",
    "                user=\"nobody\",\n",
    "                tty=True\n",
    "\n",
    "            )['Id']\n",
    "            self.exec_socket = self.client.exec_start(\n",
    "                self.exec_id, socket=True, tty=False, demux=True)._sock\n",
    "            \n",
    "            self._exec_socket \n",
    "            print(f\"Attributes and Methods of {self.exec_socket.__class__.__name__}:\")\n",
    "            for attr_name in dir(self.exec_socket):\n",
    "                # Filter out special methods and attributes (those starting with \"__\")\n",
    "                if not attr_name.startswith(\"__\"):\n",
    "                    attr_value = getattr(self.exec_socket, attr_name)\n",
    "                    docstring = attr_value.__doc__\n",
    "                    print(f\"{attr_name}: \\n {docstring}\\n\")\n",
    "            \n",
    "\n",
    "    @staticmethod\n",
    "    def extract_language_from_command(command):\n",
    "        # Normalize the command to lower case for easier searching\n",
    "        command_lower = command.lower()\n",
    "\n",
    "        # Extract Python\n",
    "        if \"python\" in command_lower or os.path.basename(command_lower).startswith(\"python\"):\n",
    "            return \"python\"\n",
    "\n",
    "        # Extract R\n",
    "        if re.search(r'\\bR\\b', command):\n",
    "            return \"r\"\n",
    "\n",
    "        # Extract Shell\n",
    "        if any(shell in command_lower for shell in [\"bash\", \"sh\", \"zsh\", \"fish\"]):\n",
    "            return \"shell\"\n",
    "\n",
    "        # Extract Node.js\n",
    "        if \"node\" in command_lower:\n",
    "            return \"javascript\"\n",
    "\n",
    "        # Return unknown if we can't determine the language\n",
    "        return \"unknown\"\n",
    "\n",
    "    def wait_for_container_start(self, container_id, timeout=30):\n",
    "        start_time = time.time()\n",
    "        while True:\n",
    "            container_info = self.client.inspect_container(container_id)\n",
    "            if container_info.get('State', {}).get('Running') is True:\n",
    "                return True\n",
    "            elif time.time() - start_time > timeout:\n",
    "                raise TimeoutError(\n",
    "                    \"Container did not start within the specified timeout.\")\n",
    "            time.sleep(1)\n",
    "\n",
    "import threading\n",
    "import uuid\n",
    "import uuid\n",
    "def test_docker_wrapper():\n",
    "    # Initialize a DockerProcWrapper instance with bash in interactive mode\n",
    "    wrapper = DockerProcWrapper(\"python3 \", session_path=\"/workspaces/open-interpreter/interpreter/dockerfiles/ses-\" + str(uuid.uuid4()))\n",
    "\n",
    "    print(\"Interactive Docker shell. Type 'exit' to quit.\")\n",
    "\n",
    "    while True:\n",
    "        # Read user input\n",
    "        command = input(\">>> \")\n",
    "        \n",
    "        # Check for exit command\n",
    "        if command.lower() == 'exit':\n",
    "            break\n",
    "\n",
    "        # Send the command to the Docker container\n",
    "        wrapper.stdin.write(command + \"\\n\")\n",
    "        wrapper.stdin.flush()\n",
    "\n",
    "        # Read from stdout and stderr until an empty line is received\n",
    "        print(\"Reading from stdout:\")\n",
    "        while True:\n",
    "            line = wrapper.stdout.readline()\n",
    "            if line == \">>>\":\n",
    "                break\n",
    "            print(f\"STDOUT: {line}\")\n",
    "\n",
    "        print(\"Reading from stderr:\")\n",
    "        while True:\n",
    "            line2 = wrapper.stderr.readline()\n",
    "            if not line2:\n",
    "                break\n",
    "            print(f\"STDERR: {line2}\")\n",
    "\n",
    "    # Clean up\n",
    "    del wrapper\n",
    "\n",
    "if __name__ =='__main__':\n",
    "    test_docker_wrapper()\n"
   ]
  },
  {
   "cell_type": "code",
   "execution_count": 15,
   "metadata": {},
   "outputs": [
    {
     "data": {
      "text/html": [
       "<pre style=\"white-space:pre;overflow-x:auto;line-height:normal;font-family:Menlo,'DejaVu Sans Mono',consolas,'Courier New',monospace\">waiting for container start\n",
       "</pre>\n"
      ],
      "text/plain": [
       "waiting for container start\n"
      ]
     },
     "metadata": {},
     "output_type": "display_data"
    },
    {
     "data": {
      "text/html": [
       "<pre style=\"white-space:pre;overflow-x:auto;line-height:normal;font-family:Menlo,'DejaVu Sans Mono',consolas,'Courier New',monospace\">container started\n",
       "</pre>\n"
      ],
      "text/plain": [
       "container started\n"
      ]
     },
     "metadata": {},
     "output_type": "display_data"
    },
    {
     "data": {
      "text/html": [
       "<pre style=\"white-space:pre;overflow-x:auto;line-height:normal;font-family:Menlo,'DejaVu Sans Mono',consolas,'Courier New',monospace\">Interactive Docker shell. Type <span style=\"color: #008000; text-decoration-color: #008000\">'exit'</span> to quit.\n",
       "</pre>\n"
      ],
      "text/plain": [
       "Interactive Docker shell. Type \u001b[32m'exit'\u001b[0m to quit.\n"
      ]
     },
     "metadata": {},
     "output_type": "display_data"
    },
    {
     "data": {
      "text/html": [
       "<pre style=\"white-space:pre;overflow-x:auto;line-height:normal;font-family:Menlo,'DejaVu Sans Mono',consolas,'Courier New',monospace\">Reading from stdout:\n",
       "</pre>\n"
      ],
      "text/plain": [
       "Reading from stdout:\n"
      ]
     },
     "metadata": {},
     "output_type": "display_data"
    },
    {
     "data": {
      "text/html": [
       "<pre style=\"white-space:pre;overflow-x:auto;line-height:normal;font-family:Menlo,'DejaVu Sans Mono',consolas,'Courier New',monospace\"><span style=\"color: #008000; text-decoration-color: #008000\">b'&gt;&gt;&gt; print(\"hello\")'</span>\n",
       "</pre>\n"
      ],
      "text/plain": [
       "\u001b[32mb'>>> print\u001b[0m\u001b[32m(\u001b[0m\u001b[32m\"hello\"\u001b[0m\u001b[32m)\u001b[0m\u001b[32m'\u001b[0m\n"
      ]
     },
     "metadata": {},
     "output_type": "display_data"
    },
    {
     "data": {
      "text/html": [
       "<pre style=\"white-space:pre;overflow-x:auto;line-height:normal;font-family:Menlo,'DejaVu Sans Mono',consolas,'Courier New',monospace\"><span style=\"font-weight: bold\">(</span><span style=\"color: #008000; text-decoration-color: #008000\">''</span>, <span style=\"color: #008000; text-decoration-color: #008000\">''</span><span style=\"font-weight: bold\">)</span>\n",
       "</pre>\n"
      ],
      "text/plain": [
       "\u001b[1m(\u001b[0m\u001b[32m''\u001b[0m, \u001b[32m''\u001b[0m\u001b[1m)\u001b[0m\n"
      ]
     },
     "metadata": {},
     "output_type": "display_data"
    },
    {
     "data": {
      "text/html": [
       "<pre style=\"white-space:pre;overflow-x:auto;line-height:normal;font-family:Menlo,'DejaVu Sans Mono',consolas,'Courier New',monospace\">Reading from stderr:\n",
       "</pre>\n"
      ],
      "text/plain": [
       "Reading from stderr:\n"
      ]
     },
     "metadata": {},
     "output_type": "display_data"
    },
    {
     "ename": "KeyboardInterrupt",
     "evalue": "Interrupted by user",
     "output_type": "error",
     "traceback": [
      "\u001b[0;31m---------------------------------------------------------------------------\u001b[0m",
      "\u001b[0;31mKeyboardInterrupt\u001b[0m                         Traceback (most recent call last)",
      "\u001b[1;32m/workspaces/open-interpreter/interpreter/test.ipynb Cell 5\u001b[0m line \u001b[0;36m2\n\u001b[1;32m    <a href='vscode-notebook-cell://codespaces%2Bjubilant-space-broccoli-5wgj4g5p5j5h7g6r/workspaces/open-interpreter/interpreter/test.ipynb#W4sdnNjb2RlLXJlbW90ZQ%3D%3D?line=204'>205</a>\u001b[0m     \u001b[39mdel\u001b[39;00m wrapper\n\u001b[1;32m    <a href='vscode-notebook-cell://codespaces%2Bjubilant-space-broccoli-5wgj4g5p5j5h7g6r/workspaces/open-interpreter/interpreter/test.ipynb#W4sdnNjb2RlLXJlbW90ZQ%3D%3D?line=206'>207</a>\u001b[0m \u001b[39mif\u001b[39;00m \u001b[39m__name__\u001b[39m \u001b[39m==\u001b[39m\u001b[39m'\u001b[39m\u001b[39m__main__\u001b[39m\u001b[39m'\u001b[39m:\n\u001b[0;32m--> <a href='vscode-notebook-cell://codespaces%2Bjubilant-space-broccoli-5wgj4g5p5j5h7g6r/workspaces/open-interpreter/interpreter/test.ipynb#W4sdnNjb2RlLXJlbW90ZQ%3D%3D?line=207'>208</a>\u001b[0m     test_docker_wrapper()\n",
      "\u001b[1;32m/workspaces/open-interpreter/interpreter/test.ipynb Cell 5\u001b[0m line \u001b[0;36m1\n\u001b[1;32m    <a href='vscode-notebook-cell://codespaces%2Bjubilant-space-broccoli-5wgj4g5p5j5h7g6r/workspaces/open-interpreter/interpreter/test.ipynb#W4sdnNjb2RlLXJlbW90ZQ%3D%3D?line=174'>175</a>\u001b[0m \u001b[39mprint\u001b[39m(\u001b[39m\"\u001b[39m\u001b[39mInteractive Docker shell. Type \u001b[39m\u001b[39m'\u001b[39m\u001b[39mexit\u001b[39m\u001b[39m'\u001b[39m\u001b[39m to quit.\u001b[39m\u001b[39m\"\u001b[39m)\n\u001b[1;32m    <a href='vscode-notebook-cell://codespaces%2Bjubilant-space-broccoli-5wgj4g5p5j5h7g6r/workspaces/open-interpreter/interpreter/test.ipynb#W4sdnNjb2RlLXJlbW90ZQ%3D%3D?line=176'>177</a>\u001b[0m \u001b[39mwhile\u001b[39;00m \u001b[39mTrue\u001b[39;00m:\n\u001b[1;32m    <a href='vscode-notebook-cell://codespaces%2Bjubilant-space-broccoli-5wgj4g5p5j5h7g6r/workspaces/open-interpreter/interpreter/test.ipynb#W4sdnNjb2RlLXJlbW90ZQ%3D%3D?line=177'>178</a>\u001b[0m     \u001b[39m# Read user input\u001b[39;00m\n\u001b[0;32m--> <a href='vscode-notebook-cell://codespaces%2Bjubilant-space-broccoli-5wgj4g5p5j5h7g6r/workspaces/open-interpreter/interpreter/test.ipynb#W4sdnNjb2RlLXJlbW90ZQ%3D%3D?line=178'>179</a>\u001b[0m     command \u001b[39m=\u001b[39m \u001b[39minput\u001b[39;49m(\u001b[39m\"\u001b[39;49m\u001b[39m>>> \u001b[39;49m\u001b[39m\"\u001b[39;49m)\n\u001b[1;32m    <a href='vscode-notebook-cell://codespaces%2Bjubilant-space-broccoli-5wgj4g5p5j5h7g6r/workspaces/open-interpreter/interpreter/test.ipynb#W4sdnNjb2RlLXJlbW90ZQ%3D%3D?line=180'>181</a>\u001b[0m     \u001b[39m# Check for exit command\u001b[39;00m\n\u001b[1;32m    <a href='vscode-notebook-cell://codespaces%2Bjubilant-space-broccoli-5wgj4g5p5j5h7g6r/workspaces/open-interpreter/interpreter/test.ipynb#W4sdnNjb2RlLXJlbW90ZQ%3D%3D?line=181'>182</a>\u001b[0m     \u001b[39mif\u001b[39;00m command\u001b[39m.\u001b[39mlower() \u001b[39m==\u001b[39m \u001b[39m'\u001b[39m\u001b[39mexit\u001b[39m\u001b[39m'\u001b[39m:\n",
      "File \u001b[0;32m~/.local/lib/python3.10/site-packages/ipykernel/kernelbase.py:1202\u001b[0m, in \u001b[0;36mKernel.raw_input\u001b[0;34m(self, prompt)\u001b[0m\n\u001b[1;32m   1200\u001b[0m     msg \u001b[39m=\u001b[39m \u001b[39m\"\u001b[39m\u001b[39mraw_input was called, but this frontend does not support input requests.\u001b[39m\u001b[39m\"\u001b[39m\n\u001b[1;32m   1201\u001b[0m     \u001b[39mraise\u001b[39;00m StdinNotImplementedError(msg)\n\u001b[0;32m-> 1202\u001b[0m \u001b[39mreturn\u001b[39;00m \u001b[39mself\u001b[39;49m\u001b[39m.\u001b[39;49m_input_request(\n\u001b[1;32m   1203\u001b[0m     \u001b[39mstr\u001b[39;49m(prompt),\n\u001b[1;32m   1204\u001b[0m     \u001b[39mself\u001b[39;49m\u001b[39m.\u001b[39;49m_parent_ident[\u001b[39m\"\u001b[39;49m\u001b[39mshell\u001b[39;49m\u001b[39m\"\u001b[39;49m],\n\u001b[1;32m   1205\u001b[0m     \u001b[39mself\u001b[39;49m\u001b[39m.\u001b[39;49mget_parent(\u001b[39m\"\u001b[39;49m\u001b[39mshell\u001b[39;49m\u001b[39m\"\u001b[39;49m),\n\u001b[1;32m   1206\u001b[0m     password\u001b[39m=\u001b[39;49m\u001b[39mFalse\u001b[39;49;00m,\n\u001b[1;32m   1207\u001b[0m )\n",
      "File \u001b[0;32m~/.local/lib/python3.10/site-packages/ipykernel/kernelbase.py:1245\u001b[0m, in \u001b[0;36mKernel._input_request\u001b[0;34m(self, prompt, ident, parent, password)\u001b[0m\n\u001b[1;32m   1242\u001b[0m \u001b[39mexcept\u001b[39;00m \u001b[39mKeyboardInterrupt\u001b[39;00m:\n\u001b[1;32m   1243\u001b[0m     \u001b[39m# re-raise KeyboardInterrupt, to truncate traceback\u001b[39;00m\n\u001b[1;32m   1244\u001b[0m     msg \u001b[39m=\u001b[39m \u001b[39m\"\u001b[39m\u001b[39mInterrupted by user\u001b[39m\u001b[39m\"\u001b[39m\n\u001b[0;32m-> 1245\u001b[0m     \u001b[39mraise\u001b[39;00m \u001b[39mKeyboardInterrupt\u001b[39;00m(msg) \u001b[39mfrom\u001b[39;00m \u001b[39mNone\u001b[39;00m\n\u001b[1;32m   1246\u001b[0m \u001b[39mexcept\u001b[39;00m \u001b[39mException\u001b[39;00m:\n\u001b[1;32m   1247\u001b[0m     \u001b[39mself\u001b[39m\u001b[39m.\u001b[39mlog\u001b[39m.\u001b[39mwarning(\u001b[39m\"\u001b[39m\u001b[39mInvalid Message:\u001b[39m\u001b[39m\"\u001b[39m, exc_info\u001b[39m=\u001b[39m\u001b[39mTrue\u001b[39;00m)\n",
      "\u001b[0;31mKeyboardInterrupt\u001b[0m: Interrupted by user"
     ]
    }
   ],
   "source": [
    "class DockerStreamWrapper:\n",
    "    def __init__(self, exec_id, stream_type, sock):\n",
    "        self.exec_id = exec_id\n",
    "        self.stream_type = stream_type\n",
    "        self._sock = sock\n",
    "        self._buffer = \"\"\n",
    "        self._line_queue = queue.Queue()\n",
    "\n",
    "    @staticmethod\n",
    "    def demux_docker_stream(data):\n",
    "        stdout = \"\"\n",
    "        stderr = \"\"\n",
    "        offset = 0\n",
    "        while offset + 8 <= len(data):\n",
    "            header = data[offset : offset + 8]\n",
    "            (stream_type, length) = struct.unpack(\">BxxxL\", header)\n",
    "            offset += 8\n",
    "            chunk = data[offset : offset + length].decode(\"utf-8\")\n",
    "            offset += length\n",
    "            if stream_type == 1:\n",
    "                stdout += chunk\n",
    "            elif stream_type == 2:\n",
    "                stderr += chunk\n",
    "        if stdout and (not stdout.endswith(\"\\n\")):\n",
    "            stdout += \"\\n\"\n",
    "        if stderr and (not stderr.endswith(\"\\n\")):\n",
    "            stderr += \"\\n\"\n",
    "        return (stdout, stderr)\n",
    "\n",
    "    def readline(self, timeout=3):\n",
    "        while self._line_queue.empty():\n",
    "            ready_to_read, _, _ = select.select([self._sock], [], [], timeout)\n",
    "            \n",
    "            if not ready_to_read:\n",
    "                return \"\"\n",
    "\n",
    "            raw_data = self._sock.recv(2048)\n",
    "            print(raw_data)\n",
    "            stdout, stderr = self.demux_docker_stream(raw_data)\n",
    "            print((stdout, stderr))\n",
    "            new_data = stdout if self.stream_type == 'stdout' else stderr\n",
    "            self._buffer += new_data\n",
    "\n",
    "            while '\\n' in self._buffer:\n",
    "                newline_pos = self._buffer.find('\\n')\n",
    "                line = self._buffer[:newline_pos]\n",
    "                self._buffer = self._buffer[newline_pos + 1:]\n",
    "                self._line_queue.put(line.strip())\n",
    "\n",
    "        return self._line_queue.get()\n",
    "\n",
    "\n",
    "    def write(self, data):\n",
    "        self._sock.sendall(data.encode())\n",
    "\n",
    "    @staticmethod\n",
    "    def flush():\n",
    "        pass\n",
    "\n",
    "\n",
    "class DockerProcWrapper:\n",
    "    def __init__(self, command, session_path):\n",
    "        self.client = docker.APIClient()\n",
    "        self.image_name = \"openinterpreter-runtime-container:latest\"\n",
    "        self.session_path = session_path\n",
    "        self.id = os.path.basename(session_path)\n",
    "        self.lang = self.extract_language_from_command(command)\n",
    "        self.exec_id = None\n",
    "        self.exec_socket = None\n",
    "\n",
    "        # Initialize container\n",
    "        self.init_container()\n",
    "\n",
    "        self.init_exec_instance(command)\n",
    "\n",
    "        self.stdin = DockerStreamWrapper(self.exec_id, \"stdin\", self.exec_socket)\n",
    "        self.stdout = DockerStreamWrapper(self.exec_id, \"stdout\", self.exec_socket)\n",
    "        self.stderr = DockerStreamWrapper(self.exec_id, \"stderr\", self.exec_socket)\n",
    "\n",
    "    def init_container(self):\n",
    "        self.container = None\n",
    "        try:\n",
    "            containers = self.client.containers(\n",
    "                filters={\"label\": f\"session_id={self.id}\"}, all=True\n",
    "            )\n",
    "            if containers:\n",
    "                self.container = containers[0]\n",
    "                container_id = self.container.get(\"Id\")\n",
    "                container_info = self.client.inspect_container(container_id)\n",
    "                if container_info.get(\"State\", {}).get(\"Running\") is False:\n",
    "                    \n",
    "                    self.client.start(container=container_id)\n",
    "                    print(\"waiting for container start\")\n",
    "                    self.wait_for_container_start(container_id)\n",
    "                    \n",
    "            else:\n",
    "                env_client = docker.from_env()\n",
    "                self.container = env_client.containers.run(\n",
    "                    self.image_name,\n",
    "                    detach=True,\n",
    "                    command=\"/bin/bash -i\",  # Keep the container running with bash\n",
    "                    labels={\"session_id\": self.id},\n",
    "                    volumes={self.session_path: {\"bind\": \"/mnt/data\", \"mode\": \"rw\"}},\n",
    "                    user=\"nobody\",  # Run as non-root user for security,\n",
    "                    stdin_open=True,\n",
    "                    tty=True,\n",
    "                )\n",
    "                self.client.start(container=self.container.id)\n",
    "                print(\"waiting for container start\")\n",
    "                self.wait_for_container_start(self.container.id)\n",
    "                print(\"container started\")\n",
    "\n",
    "        except Exception as e:\n",
    "            print(f\"An error occurred: {e}\")\n",
    "\n",
    "    def init_exec_instance(self, command):\n",
    "        if self.container:\n",
    "            self.exec_id = self.client.exec_create(\n",
    "                self.container.id,\n",
    "                cmd=command,\n",
    "                stdin=True,\n",
    "                stdout=True,\n",
    "                stderr=True,\n",
    "                workdir=\"/mnt/data\",\n",
    "                user=\"nobody\",\n",
    "                tty=True,\n",
    "            )[\"Id\"]\n",
    "            self.exec_socket = self.client.exec_start(\n",
    "                self.exec_id, socket=True, tty=True, demux=True\n",
    "            )._sock\n",
    "\n",
    "    @staticmethod\n",
    "    def extract_language_from_command(command):\n",
    "        # Normalize the command to lower case for easier searching\n",
    "        command_lower = command.lower()\n",
    "\n",
    "        # Extract Python\n",
    "        if \"python\" in command_lower or os.path.basename(command_lower).startswith(\"python\"):\n",
    "            return \"python\"\n",
    "\n",
    "        # Extract R\n",
    "        if re.search(r\"\\bR\\b\", command):\n",
    "            return \"r\"\n",
    "\n",
    "        # Extract Shell\n",
    "        if any(shell in command_lower for shell in [\"bash\", \"sh\", \"zsh\", \"fish\"]):\n",
    "            return \"shell\"\n",
    "\n",
    "        # Extract Node.js\n",
    "        if \"node\" in command_lower:\n",
    "            return \"javascript\"\n",
    "\n",
    "        # Return unknown if we can't determine the language\n",
    "        return \"unknown\"\n",
    "\n",
    "    def wait_for_container_start(self, container_id, timeout=30):\n",
    "        start_time = time.time()\n",
    "        while True:\n",
    "            container_info = self.client.inspect_container(container_id)\n",
    "            if container_info.get(\"State\", {}).get(\"Running\") is True:\n",
    "                return True\n",
    "            if time.time() - start_time > timeout:\n",
    "                raise TimeoutError(\"Container did not start within the specified timeout.\")\n",
    "            time.sleep(1)\n",
    "\n",
    "\n",
    "\n",
    "import threading\n",
    "import uuid\n",
    "import uuid\n",
    "def test_docker_wrapper():\n",
    "    # Initialize a DockerProcWrapper instance with bash in interactive mode\n",
    "    wrapper = DockerProcWrapper(\"python3 -i -q  \", session_path=\"/workspaces/open-interpreter/interpreter/dockerfiles/ses-\" + str(uuid.uuid4()))\n",
    "\n",
    "    print(\"Interactive Docker shell. Type 'exit' to quit.\")\n",
    "\n",
    "    while True:\n",
    "        # Read user input\n",
    "        command = input(\">>> \")\n",
    "        \n",
    "        # Check for exit command\n",
    "        if command.lower() == 'exit':\n",
    "            break\n",
    "\n",
    "        # Send the command to the Docker container\n",
    "        wrapper.stdin.write(command)\n",
    "        wrapper.stdin.flush()\n",
    "\n",
    "        # Read from stdout and stderr until an empty line is received\n",
    "        print(\"Reading from stdout:\")\n",
    "        while True:\n",
    "            line = wrapper.stdout.readline()\n",
    "            if not line:\n",
    "                break\n",
    "            print(f\"STDOUT: {line}\")\n",
    "\n",
    "        print(\"Reading from stderr:\")\n",
    "        while True:\n",
    "            line2 = wrapper.stderr.readline()\n",
    "            if not line2:\n",
    "                break\n",
    "            print(f\"STDERR: {line2}\")\n",
    "\n",
    "    # Clean up\n",
    "    del wrapper\n",
    "\n",
    "if __name__ =='__main__':\n",
    "    test_docker_wrapper()"
   ]
  },
  {
   "cell_type": "code",
   "execution_count": 31,
   "metadata": {},
   "outputs": [
    {
     "data": {
      "text/html": [
       "<pre style=\"white-space:pre;overflow-x:auto;line-height:normal;font-family:Menlo,'DejaVu Sans Mono',consolas,'Courier New',monospace\"><span style=\"color: #800080; text-decoration-color: #800080; font-style: italic\">None</span>\n",
       "</pre>\n"
      ],
      "text/plain": [
       "\u001b[3;35mNone\u001b[0m\n"
      ]
     },
     "metadata": {},
     "output_type": "display_data"
    },
    {
     "data": {
      "text/html": [
       "<pre style=\"white-space:pre;overflow-x:auto;line-height:normal;font-family:Menlo,'DejaVu Sans Mono',consolas,'Courier New',monospace\"><span style=\"color: #800080; text-decoration-color: #800080; font-style: italic\">None</span>\n",
       "</pre>\n"
      ],
      "text/plain": [
       "\u001b[3;35mNone\u001b[0m\n"
      ]
     },
     "metadata": {},
     "output_type": "display_data"
    },
    {
     "data": {
      "text/plain": [
       "'http+docker://localhost'"
      ]
     },
     "execution_count": 31,
     "metadata": {},
     "output_type": "execute_result"
    }
   ],
   "source": [
    "import os\n",
    "import docker\n",
    "\n",
    "base_url = os.environ.get('DOCKER_HOST')\n",
    "print(base_url)\n",
    "api_version = os.environ.get('DOCKER_API_VERSION')\n",
    "print(api_version)\n",
    "tls_config = None\n",
    "\n",
    "# If DOCKER_TLS_VERIFY is set, setup TLS configuration\n",
    "if os.environ.get('DOCKER_TLS_VERIFY') == '1':\n",
    "    print(\"using tls\")\n",
    "    cert_path = os.environ.get('DOCKER_CERT_PATH', '.')\n",
    "    tls_config = docker.tls.TLSConfig(\n",
    "        client_cert=(os.path.join(cert_path, 'cert.pem'), os.path.join(cert_path, 'key.pem')),\n",
    "        verify=os.path.join(cert_path, 'ca.pem')\n",
    "    )\n",
    "\n",
    "api_client = docker.APIClient(base_url=base_url, version=api_version, tls=tls_config)\n",
    "\n",
    "# Now you can use `api_client` just like you would use a client initialized with `from_env`.\n",
    "api_client.base_url"
   ]
  },
  {
   "cell_type": "code",
   "execution_count": 21,
   "metadata": {},
   "outputs": [
    {
     "ename": "ModuleNotFoundError",
     "evalue": "No module named 'socketio'",
     "output_type": "error",
     "traceback": [
      "\u001b[0;31m---------------------------------------------------------------------------\u001b[0m",
      "\u001b[0;31mModuleNotFoundError\u001b[0m                       Traceback (most recent call last)",
      "\u001b[1;32m/workspaces/open-interpreter/interpreter/test.ipynb Cell 6\u001b[0m line \u001b[0;36m2\n\u001b[1;32m      <a href='vscode-notebook-cell://codespaces%2Bjubilant-space-broccoli-5wgj4g5p5j5h7g6r/workspaces/open-interpreter/interpreter/test.ipynb#W5sdnNjb2RlLXJlbW90ZQ%3D%3D?line=0'>1</a>\u001b[0m \u001b[39mfrom\u001b[39;00m \u001b[39msocket\u001b[39;00m \u001b[39mimport\u001b[39;00m socket, AF_INET, SOCK_STREAM\n\u001b[0;32m----> <a href='vscode-notebook-cell://codespaces%2Bjubilant-space-broccoli-5wgj4g5p5j5h7g6r/workspaces/open-interpreter/interpreter/test.ipynb#W5sdnNjb2RlLXJlbW90ZQ%3D%3D?line=1'>2</a>\u001b[0m \u001b[39mfrom\u001b[39;00m \u001b[39msocketio\u001b[39;00m \u001b[39mimport\u001b[39;00m SocketIO\n\u001b[1;32m      <a href='vscode-notebook-cell://codespaces%2Bjubilant-space-broccoli-5wgj4g5p5j5h7g6r/workspaces/open-interpreter/interpreter/test.ipynb#W5sdnNjb2RlLXJlbW90ZQ%3D%3D?line=3'>4</a>\u001b[0m \u001b[39m# Create a dummy socket\u001b[39;00m\n\u001b[1;32m      <a href='vscode-notebook-cell://codespaces%2Bjubilant-space-broccoli-5wgj4g5p5j5h7g6r/workspaces/open-interpreter/interpreter/test.ipynb#W5sdnNjb2RlLXJlbW90ZQ%3D%3D?line=4'>5</a>\u001b[0m s \u001b[39m=\u001b[39m socket(AF_INET, SOCK_STREAM)\n",
      "\u001b[0;31mModuleNotFoundError\u001b[0m: No module named 'socketio'"
     ]
    }
   ],
   "source": [
    "from socket import socket, AF_INET, SOCK_STREAM\n",
    "from socketio import SocketIO\n",
    "\n",
    "# Create a dummy socket\n",
    "s = socket(AF_INET, SOCK_STREAM)\n",
    "s.bind(('localhost', 0))  # Bind to a random available port\n",
    "s.listen(1)\n",
    "\n",
    "# Accept a connection (this will block until a connection is made)\n",
    "conn, addr = s.accept()\n",
    "\n",
    "# Wrap the socket into a SocketIO object\n",
    "sock_io = SocketIO(conn.fileno(), 'rb+')\n",
    "\n",
    "# List the methods and attributes\n",
    "print(dir(sock_io))\n",
    "\n",
    "# Close the socket\n",
    "s.close()\n"
   ]
  },
  {
   "cell_type": "code",
   "execution_count": 9,
   "metadata": {},
   "outputs": [
    {
     "data": {
      "text/plain": [
       "[{'Id': '003c797f6415d4bc910e316af6d65f6784981494d1245e51d2d5f3184649e00f',\n",
       "  'Names': ['/exciting_cerf'],\n",
       "  'Image': 'openinterpreter-runtime-container',\n",
       "  'ImageID': 'sha256:dfbbd697df87dd2ea2ab5226a9c943dc377259412c8238f449ceaa09ebd6fedf',\n",
       "  'Command': 'bash',\n",
       "  'Created': 1694967014,\n",
       "  'Ports': [],\n",
       "  'Labels': {},\n",
       "  'State': 'running',\n",
       "  'Status': 'Up About a minute',\n",
       "  'HostConfig': {'NetworkMode': 'default'},\n",
       "  'NetworkSettings': {'Networks': {'bridge': {'IPAMConfig': None,\n",
       "     'Links': None,\n",
       "     'Aliases': None,\n",
       "     'NetworkID': '8bfbe968b594c1386e69b6defc87071154f71b19d7541fb6219f3fa9e91042e1',\n",
       "     'EndpointID': 'aa3575fa699a117796bd9443ba34a381680f39e2a9297ffe65ed681c86b16d13',\n",
       "     'Gateway': '172.17.0.1',\n",
       "     'IPAddress': '172.17.0.2',\n",
       "     'IPPrefixLen': 16,\n",
       "     'IPv6Gateway': '',\n",
       "     'GlobalIPv6Address': '',\n",
       "     'GlobalIPv6PrefixLen': 0,\n",
       "     'MacAddress': '02:42:ac:11:00:02',\n",
       "     'DriverOpts': None}}},\n",
       "  'Mounts': []}]"
      ]
     },
     "execution_count": 9,
     "metadata": {},
     "output_type": "execute_result"
    }
   ],
   "source": [
    "client.containers()"
   ]
  },
  {
   "cell_type": "code",
   "execution_count": null,
   "metadata": {},
   "outputs": [],
   "source": []
  }
 ],
 "metadata": {
  "kernelspec": {
   "display_name": "Python 3",
   "language": "python",
   "name": "python3"
  },
  "language_info": {
   "codemirror_mode": {
    "name": "ipython",
    "version": 3
   },
   "file_extension": ".py",
   "mimetype": "text/x-python",
   "name": "python",
   "nbconvert_exporter": "python",
   "pygments_lexer": "ipython3",
   "version": "3.10.8"
  },
  "orig_nbformat": 4
 },
 "nbformat": 4,
 "nbformat_minor": 2
}
