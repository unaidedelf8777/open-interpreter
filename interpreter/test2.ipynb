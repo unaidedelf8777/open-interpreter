{
 "cells": [
  {
   "cell_type": "code",
   "execution_count": 8,
   "metadata": {},
   "outputs": [
    {
     "data": {
      "text/html": [
       "<pre style=\"white-space:pre;overflow-x:auto;line-height:normal;font-family:Menlo,'DejaVu Sans Mono',consolas,'Courier New',monospace\">waiting for container start\n",
       "</pre>\n"
      ],
      "text/plain": [
       "waiting for container start\n"
      ]
     },
     "metadata": {},
     "output_type": "display_data"
    },
    {
     "data": {
      "text/html": [
       "<pre style=\"white-space:pre;overflow-x:auto;line-height:normal;font-family:Menlo,'DejaVu Sans Mono',consolas,'Courier New',monospace\">container started\n",
       "</pre>\n"
      ],
      "text/plain": [
       "container started\n"
      ]
     },
     "metadata": {},
     "output_type": "display_data"
    },
    {
     "data": {
      "text/html": [
       "<pre style=\"white-space:pre;overflow-x:auto;line-height:normal;font-family:Menlo,'DejaVu Sans Mono',consolas,'Courier New',monospace\">Interactive Docker shell. Type <span style=\"color: #008000; text-decoration-color: #008000\">'exit'</span> to quit.\n",
       "</pre>\n"
      ],
      "text/plain": [
       "Interactive Docker shell. Type \u001b[32m'exit'\u001b[0m to quit.\n"
      ]
     },
     "metadata": {},
     "output_type": "display_data"
    },
    {
     "data": {
      "text/html": [
       "<pre style=\"white-space:pre;overflow-x:auto;line-height:normal;font-family:Menlo,'DejaVu Sans Mono',consolas,'Courier New',monospace\">Reading from stdout:\n",
       "</pre>\n"
      ],
      "text/plain": [
       "Reading from stdout:\n"
      ]
     },
     "metadata": {},
     "output_type": "display_data"
    },
    {
     "data": {
      "text/html": [
       "<pre style=\"white-space:pre;overflow-x:auto;line-height:normal;font-family:Menlo,'DejaVu Sans Mono',consolas,'Courier New',monospace\">Reading from stderr:\n",
       "</pre>\n"
      ],
      "text/plain": [
       "Reading from stderr:\n"
      ]
     },
     "metadata": {},
     "output_type": "display_data"
    },
    {
     "data": {
      "text/html": [
       "<pre style=\"white-space:pre;overflow-x:auto;line-height:normal;font-family:Menlo,'DejaVu Sans Mono',consolas,'Courier New',monospace\">Reading from stdout:\n",
       "</pre>\n"
      ],
      "text/plain": [
       "Reading from stdout:\n"
      ]
     },
     "metadata": {},
     "output_type": "display_data"
    },
    {
     "data": {
      "text/html": [
       "<pre style=\"white-space:pre;overflow-x:auto;line-height:normal;font-family:Menlo,'DejaVu Sans Mono',consolas,'Courier New',monospace\">Reading from stderr:\n",
       "</pre>\n"
      ],
      "text/plain": [
       "Reading from stderr:\n"
      ]
     },
     "metadata": {},
     "output_type": "display_data"
    },
    {
     "data": {
      "text/html": [
       "<pre style=\"white-space:pre;overflow-x:auto;line-height:normal;font-family:Menlo,'DejaVu Sans Mono',consolas,'Courier New',monospace\">Reading from stdout:\n",
       "</pre>\n"
      ],
      "text/plain": [
       "Reading from stdout:\n"
      ]
     },
     "metadata": {},
     "output_type": "display_data"
    },
    {
     "ename": "KeyboardInterrupt",
     "evalue": "",
     "output_type": "error",
     "traceback": [
      "\u001b[0;31m---------------------------------------------------------------------------\u001b[0m",
      "\u001b[0;31mKeyboardInterrupt\u001b[0m                         Traceback (most recent call last)",
      "\u001b[1;32m/workspaces/open-interpreter/interpreter/test2.ipynb Cell 1\u001b[0m line \u001b[0;36m2\n\u001b[1;32m    <a href='vscode-notebook-cell://codespaces%2Bjubilant-space-broccoli-5wgj4g5p5j5h7g6r/workspaces/open-interpreter/interpreter/test2.ipynb#W0sdnNjb2RlLXJlbW90ZQ%3D%3D?line=272'>273</a>\u001b[0m     \u001b[39mdel\u001b[39;00m wrapper\n\u001b[1;32m    <a href='vscode-notebook-cell://codespaces%2Bjubilant-space-broccoli-5wgj4g5p5j5h7g6r/workspaces/open-interpreter/interpreter/test2.ipynb#W0sdnNjb2RlLXJlbW90ZQ%3D%3D?line=274'>275</a>\u001b[0m \u001b[39mif\u001b[39;00m \u001b[39m__name__\u001b[39m \u001b[39m==\u001b[39m\u001b[39m'\u001b[39m\u001b[39m__main__\u001b[39m\u001b[39m'\u001b[39m:\n\u001b[0;32m--> <a href='vscode-notebook-cell://codespaces%2Bjubilant-space-broccoli-5wgj4g5p5j5h7g6r/workspaces/open-interpreter/interpreter/test2.ipynb#W0sdnNjb2RlLXJlbW90ZQ%3D%3D?line=275'>276</a>\u001b[0m     test_docker_wrapper()\n",
      "\u001b[1;32m/workspaces/open-interpreter/interpreter/test2.ipynb Cell 1\u001b[0m line \u001b[0;36m2\n\u001b[1;32m    <a href='vscode-notebook-cell://codespaces%2Bjubilant-space-broccoli-5wgj4g5p5j5h7g6r/workspaces/open-interpreter/interpreter/test2.ipynb#W0sdnNjb2RlLXJlbW90ZQ%3D%3D?line=257'>258</a>\u001b[0m \u001b[39mprint\u001b[39m(\u001b[39m\"\u001b[39m\u001b[39mReading from stdout:\u001b[39m\u001b[39m\"\u001b[39m)\n\u001b[1;32m    <a href='vscode-notebook-cell://codespaces%2Bjubilant-space-broccoli-5wgj4g5p5j5h7g6r/workspaces/open-interpreter/interpreter/test2.ipynb#W0sdnNjb2RlLXJlbW90ZQ%3D%3D?line=258'>259</a>\u001b[0m \u001b[39mwhile\u001b[39;00m \u001b[39mTrue\u001b[39;00m:\n\u001b[0;32m--> <a href='vscode-notebook-cell://codespaces%2Bjubilant-space-broccoli-5wgj4g5p5j5h7g6r/workspaces/open-interpreter/interpreter/test2.ipynb#W0sdnNjb2RlLXJlbW90ZQ%3D%3D?line=259'>260</a>\u001b[0m     line \u001b[39m=\u001b[39m wrapper\u001b[39m.\u001b[39;49mstdout\u001b[39m.\u001b[39;49mreadline()\n\u001b[1;32m    <a href='vscode-notebook-cell://codespaces%2Bjubilant-space-broccoli-5wgj4g5p5j5h7g6r/workspaces/open-interpreter/interpreter/test2.ipynb#W0sdnNjb2RlLXJlbW90ZQ%3D%3D?line=260'>261</a>\u001b[0m     \u001b[39mif\u001b[39;00m line \u001b[39mis\u001b[39;00m \u001b[39mNone\u001b[39;00m:\n\u001b[1;32m    <a href='vscode-notebook-cell://codespaces%2Bjubilant-space-broccoli-5wgj4g5p5j5h7g6r/workspaces/open-interpreter/interpreter/test2.ipynb#W0sdnNjb2RlLXJlbW90ZQ%3D%3D?line=261'>262</a>\u001b[0m         \u001b[39mbreak\u001b[39;00m\n",
      "\u001b[1;32m/workspaces/open-interpreter/interpreter/test2.ipynb Cell 1\u001b[0m line \u001b[0;36m4\n\u001b[1;32m     <a href='vscode-notebook-cell://codespaces%2Bjubilant-space-broccoli-5wgj4g5p5j5h7g6r/workspaces/open-interpreter/interpreter/test2.ipynb#W0sdnNjb2RlLXJlbW90ZQ%3D%3D?line=37'>38</a>\u001b[0m \u001b[39mdef\u001b[39;00m \u001b[39mreadline\u001b[39m(\u001b[39mself\u001b[39m, timeout\u001b[39m=\u001b[39m\u001b[39m3\u001b[39m):\n\u001b[1;32m     <a href='vscode-notebook-cell://codespaces%2Bjubilant-space-broccoli-5wgj4g5p5j5h7g6r/workspaces/open-interpreter/interpreter/test2.ipynb#W0sdnNjb2RlLXJlbW90ZQ%3D%3D?line=38'>39</a>\u001b[0m     \u001b[39mwhile\u001b[39;00m \u001b[39m'\u001b[39m\u001b[39m\\n\u001b[39;00m\u001b[39m'\u001b[39m \u001b[39mnot\u001b[39;00m \u001b[39min\u001b[39;00m \u001b[39mself\u001b[39m\u001b[39m.\u001b[39m_buffer:\n\u001b[0;32m---> <a href='vscode-notebook-cell://codespaces%2Bjubilant-space-broccoli-5wgj4g5p5j5h7g6r/workspaces/open-interpreter/interpreter/test2.ipynb#W0sdnNjb2RlLXJlbW90ZQ%3D%3D?line=39'>40</a>\u001b[0m         ready_to_read, _, _ \u001b[39m=\u001b[39m select\u001b[39m.\u001b[39;49mselect([\u001b[39mself\u001b[39;49m\u001b[39m.\u001b[39;49m_read_fd], [], [], timeout)\n\u001b[1;32m     <a href='vscode-notebook-cell://codespaces%2Bjubilant-space-broccoli-5wgj4g5p5j5h7g6r/workspaces/open-interpreter/interpreter/test2.ipynb#W0sdnNjb2RlLXJlbW90ZQ%3D%3D?line=40'>41</a>\u001b[0m         \u001b[39mif\u001b[39;00m \u001b[39mnot\u001b[39;00m ready_to_read:\n\u001b[1;32m     <a href='vscode-notebook-cell://codespaces%2Bjubilant-space-broccoli-5wgj4g5p5j5h7g6r/workspaces/open-interpreter/interpreter/test2.ipynb#W0sdnNjb2RlLXJlbW90ZQ%3D%3D?line=41'>42</a>\u001b[0m             \u001b[39mreturn\u001b[39;00m \u001b[39mNone\u001b[39;00m\n",
      "\u001b[0;31mKeyboardInterrupt\u001b[0m: "
     ]
    }
   ],
   "source": [
    "import struct\n",
    "from docker import DockerClient\n",
    "import docker\n",
    "import os\n",
    "from rich import print\n",
    "import re\n",
    "import time\n",
    "import queue\n",
    "import select\n",
    "\n",
    "\n",
    "\n",
    "import threading\n",
    "import queue\n",
    "import os\n",
    "import select\n",
    "import struct\n",
    "\n",
    "class DockerStreamWrapper:\n",
    "    def __init__(self, exec_id, sock):\n",
    "        self.exec_id = exec_id\n",
    "        self._sock = sock\n",
    "        self._stdout_r, self._stdout_w = os.pipe()\n",
    "        self._stderr_r, self._stderr_w = os.pipe()\n",
    "        self.stdout = self.Stream(self, self._stdout_r)\n",
    "        self.stderr = self.Stream(self, self._stderr_r)\n",
    "\n",
    "        self._stop_event = threading.Event()\n",
    "        self._thread = threading.Thread(target=self._listen)\n",
    "        self._thread.start()\n",
    "    \n",
    "    class Stream:\n",
    "        def __init__(self, parent, read_fd):\n",
    "            self.parent = parent\n",
    "            self._read_fd = read_fd\n",
    "            self._buffer = \"\"\n",
    "\n",
    "        def readline(self, timeout=3):\n",
    "            while '\\n' not in self._buffer:\n",
    "                ready_to_read, _, _ = select.select([self._read_fd], [], [], timeout)\n",
    "                if not ready_to_read:\n",
    "                    return None\n",
    "                chunk = os.read(self._read_fd, 1024).decode('utf-8')\n",
    "                self._buffer += chunk\n",
    "\n",
    "            newline_pos = self._buffer.find('\\n')\n",
    "            line = self._buffer[:newline_pos]\n",
    "            self._buffer = self._buffer[newline_pos + 1:]\n",
    "            return line\n",
    "\n",
    "    def _listen(self):\n",
    "        while not self._stop_event.is_set():\n",
    "            ready_to_read, _, _ = select.select([self._sock], [], [], 1)\n",
    "            if ready_to_read:\n",
    "                raw_data = self._sock.recv(2048)\n",
    "                stdout, stderr = self.demux_docker_stream(raw_data)\n",
    "                os.write(self._stdout_w, stdout.encode())\n",
    "                os.write(self._stderr_w, stderr.encode())\n",
    "\n",
    "    def demux_docker_stream(self, data):\n",
    "        stdout = \"\"\n",
    "        stderr = \"\"\n",
    "        offset = 0\n",
    "        while offset + 8 <= len(data):\n",
    "            header = data[offset:offset + 8]\n",
    "            stream_type, length = struct.unpack('>BxxxL', header)\n",
    "            offset += 8\n",
    "            chunk = data[offset:offset + length].decode('utf-8')\n",
    "            offset += length\n",
    "            if stream_type == 1:\n",
    "                stdout += chunk\n",
    "            elif stream_type == 2:\n",
    "                stderr += chunk\n",
    "\n",
    "        return stdout, stderr\n",
    "\n",
    "    def write(self, data):\n",
    "        commands = []\n",
    "        current_command = \"\"\n",
    "        escape_next = False  # Flag to indicate if the next character is part of an escape sequence\n",
    "\n",
    "        for char in data:\n",
    "            if escape_next:\n",
    "                if char == 'n':  # Newline\n",
    "                    if current_command.rstrip():\n",
    "                        commands.append(current_command.rstrip())\n",
    "                    current_command = \"\"\n",
    "                elif char == 'r':  # Carriage return\n",
    "                    current_command = \"\"\n",
    "                elif char == '\\\\':  # Backslash\n",
    "                    current_command += '\\\\'\n",
    "                else:  # Any other escaped character (e.g., \\t, \\', \\\")\n",
    "                    current_command += char\n",
    "                escape_next = False\n",
    "            else:\n",
    "                if char == '\\\\':\n",
    "                    escape_next = True\n",
    "                else:\n",
    "                    current_command += char\n",
    "\n",
    "        # Add the last command if not empty\n",
    "        if current_command.rstrip():\n",
    "            commands.append(current_command.rstrip())\n",
    "\n",
    "\n",
    "        for cmd in commands:\n",
    "            if cmd.endswith('\\n'):\n",
    "                self._sock.sendall(cmd.encode('utf-8'))\n",
    "            else:\n",
    "                self._sock.sendall(cmd.encode('utf-8') + b'\\n')\n",
    "\n",
    "    def flush(self):\n",
    "        pass\n",
    "\n",
    "    def close(self):\n",
    "        self._stop_event.set()\n",
    "        self._thread.join()\n",
    "        os.close(self._stdout_r)\n",
    "        os.close(self._stdout_w)\n",
    "        os.close(self._stderr_r)\n",
    "        os.close(self._stderr_w)\n",
    "\n",
    "\n",
    "\n",
    "class DockerProcWrapper:\n",
    "    def __init__(self, command, session_path):\n",
    "        self.client = docker.APIClient()\n",
    "        self.image_name = \"openinterpreter-runtime-container:latest\"\n",
    "        self.session_path = session_path\n",
    "        self.id = os.path.basename(session_path)\n",
    "        self.lang = self.extract_language_from_command(command)\n",
    "        self.exec_id = None\n",
    "        self.exec_socket = None\n",
    "\n",
    "        # Initialize container\n",
    "        self.init_container()\n",
    "\n",
    "        self.init_exec_instance(command)\n",
    "        \n",
    "\n",
    "        self.wrapper = DockerStreamWrapper(self.exec_id, self.exec_socket)\n",
    "        self.stdout = self.wrapper.stdout\n",
    "        self.stderr = self.wrapper.stderr\n",
    "        self.stdin = self.wrapper\n",
    "\n",
    "    def init_container(self):\n",
    "        self.container = None\n",
    "        try:\n",
    "            containers = self.client.containers(\n",
    "                filters={\"label\": f\"session_id={self.id}\"}, all=True)\n",
    "            if containers:\n",
    "                self.container = containers[0]\n",
    "                container_id = self.container.get('Id')\n",
    "                container_info = self.client.inspect_container(container_id)\n",
    "                if container_info.get('State', {}).get('Running') is False:\n",
    "                    print(container_info.get('State', {}))\n",
    "                    self.client.start(container=container_id)\n",
    "                    print(\"waiting for container start\")\n",
    "                    self.wait_for_container_start(container_id)\n",
    "                    print(\"container started\")\n",
    "            else:\n",
    "                volume_binding = {\n",
    "                    self.session_path: {'bind': '/mnt/data', 'mode': 'rw'}\n",
    "                }\n",
    "                env_client = docker.from_env()\n",
    "                self.container = env_client.containers.run(\n",
    "                    self.image_name,\n",
    "                    detach=True,\n",
    "                    command=\"/bin/bash -i\",  # Keep the container running with bash\n",
    "                    labels={'session_id': self.id},\n",
    "                    volumes={self.session_path: {'bind': '/mnt/data', 'mode': 'rw'}},\n",
    "                    user=\"nobody\",  # Run as non-root user for security,\n",
    "                    stdin_open = True,\n",
    "                    tty=True\n",
    "                )\n",
    "                self.client.start(container=self.container.id)\n",
    "                print(\"waiting for container start\")\n",
    "                self.wait_for_container_start(self.container.id)\n",
    "                print(\"container started\")\n",
    "\n",
    "        except Exception as e:\n",
    "            print(f\"An error occurred: {e}\")\n",
    "\n",
    "    def init_exec_instance(self, command):\n",
    "        if self.container:\n",
    "            self.exec_id = self.client.exec_create(\n",
    "                self.container.id,\n",
    "                cmd=command,\n",
    "                stdin=True,\n",
    "                stdout=True,\n",
    "                stderr=True,\n",
    "                workdir=\"/mnt/data\",\n",
    "                user=\"nobody\",\n",
    "                tty=False\n",
    "\n",
    "            )['Id']\n",
    "            self.exec_socket = self.client.exec_start(\n",
    "                self.exec_id, socket=True, tty=True, demux=True)._sock\n",
    "            \n",
    "\n",
    "    @staticmethod\n",
    "    def extract_language_from_command(command):\n",
    "        # Normalize the command to lower case for easier searching\n",
    "        command_lower = command.lower()\n",
    "\n",
    "        # Extract Python\n",
    "        if \"python\" in command_lower or os.path.basename(command_lower).startswith(\"python\"):\n",
    "            return \"python\"\n",
    "\n",
    "        # Extract R\n",
    "        if re.search(r'\\bR\\b', command):\n",
    "            return \"r\"\n",
    "\n",
    "        # Extract Shell\n",
    "        if any(shell in command_lower for shell in [\"bash\", \"sh\", \"zsh\", \"fish\"]):\n",
    "            return \"shell\"\n",
    "\n",
    "        # Extract Node.js\n",
    "        if \"node\" in command_lower:\n",
    "            return \"javascript\"\n",
    "\n",
    "        # Return unknown if we can't determine the language\n",
    "        return \"unknown\"\n",
    "\n",
    "    def wait_for_container_start(self, container_id, timeout=30):\n",
    "        start_time = time.time()\n",
    "        while True:\n",
    "            container_info = self.client.inspect_container(container_id)\n",
    "            if container_info.get('State', {}).get('Running') is True:\n",
    "                return True\n",
    "            elif time.time() - start_time > timeout:\n",
    "                raise TimeoutError(\n",
    "                    \"Container did not start within the specified timeout.\")\n",
    "            time.sleep(1)\n",
    "\n",
    "import threading\n",
    "import uuid\n",
    "import uuid\n",
    "def test_docker_wrapper():\n",
    "    # Initialize a DockerProcWrapper instance with bash in interactive mode\n",
    "    wrapper = DockerProcWrapper(\"python3 \", session_path=\"/workspaces/open-interpreter/interpreter/dockerfiles/ses-\" + str(uuid.uuid4()))\n",
    "\n",
    "    print(\"Interactive Docker shell. Type 'exit' to quit.\")\n",
    "\n",
    "    while True:\n",
    "        # Read user input\n",
    "        command = input(\">>> \")\n",
    "        \n",
    "        # Check for exit command\n",
    "        if command.lower() == 'exit':\n",
    "            break\n",
    "\n",
    "        # Send the command to the Docker container\n",
    "        wrapper.stdin.write(command + \"\\n\")\n",
    "        wrapper.stdin.flush()\n",
    "\n",
    "        # Read from stdout and stderr until an empty line is received\n",
    "        print(\"Reading from stdout:\")\n",
    "        while True:\n",
    "            line = wrapper.stdout.readline()\n",
    "            if line is None:\n",
    "                break\n",
    "            print(f\"STDOUT: {line}\")\n",
    "\n",
    "        print(\"Reading from stderr:\")\n",
    "        while True:\n",
    "            line2 = wrapper.stderr.readline()\n",
    "            if not line2:\n",
    "                break\n",
    "            print(f\"STDERR: {line2}\")\n",
    "\n",
    "    # Clean up\n",
    "    del wrapper\n",
    "\n",
    "if __name__ =='__main__':\n",
    "    test_docker_wrapper()"
   ]
  },
  {
   "cell_type": "code",
   "execution_count": 2,
   "metadata": {},
   "outputs": [
    {
     "data": {
      "text/html": [
       "<pre style=\"white-space:pre;overflow-x:auto;line-height:normal;font-family:Menlo,'DejaVu Sans Mono',consolas,'Courier New',monospace\">waiting for container start\n",
       "</pre>\n"
      ],
      "text/plain": [
       "waiting for container start\n"
      ]
     },
     "metadata": {},
     "output_type": "display_data"
    },
    {
     "data": {
      "text/html": [
       "<pre style=\"white-space:pre;overflow-x:auto;line-height:normal;font-family:Menlo,'DejaVu Sans Mono',consolas,'Courier New',monospace\">container started\n",
       "</pre>\n"
      ],
      "text/plain": [
       "container started\n"
      ]
     },
     "metadata": {},
     "output_type": "display_data"
    },
    {
     "data": {
      "text/html": [
       "<pre style=\"white-space:pre;overflow-x:auto;line-height:normal;font-family:Menlo,'DejaVu Sans Mono',consolas,'Courier New',monospace\">Interactive Docker shell. Type <span style=\"color: #008000; text-decoration-color: #008000\">'exit'</span> to quit.\n",
       "</pre>\n"
      ],
      "text/plain": [
       "Interactive Docker shell. Type \u001b[32m'exit'\u001b[0m to quit.\n"
      ]
     },
     "metadata": {},
     "output_type": "display_data"
    },
    {
     "data": {
      "text/html": [
       "<pre style=\"white-space:pre;overflow-x:auto;line-height:normal;font-family:Menlo,'DejaVu Sans Mono',consolas,'Courier New',monospace\">Reading from stdout:\n",
       "</pre>\n"
      ],
      "text/plain": [
       "Reading from stdout:\n"
      ]
     },
     "metadata": {},
     "output_type": "display_data"
    },
    {
     "data": {
      "text/html": [
       "<pre style=\"white-space:pre;overflow-x:auto;line-height:normal;font-family:Menlo,'DejaVu Sans Mono',consolas,'Courier New',monospace\">STDOUT: ACTIVE_LIN<span style=\"color: #00ff00; text-decoration-color: #00ff00; font-weight: bold\">E:1</span>\n",
       "</pre>\n"
      ],
      "text/plain": [
       "STDOUT: ACTIVE_LIN\u001b[1;92mE:1\u001b[0m\n"
      ]
     },
     "metadata": {},
     "output_type": "display_data"
    },
    {
     "data": {
      "text/html": [
       "<pre style=\"white-space:pre;overflow-x:auto;line-height:normal;font-family:Menlo,'DejaVu Sans Mono',consolas,'Courier New',monospace\">STDOUT: Why don’t scientists trust atoms? Because they make up everything!\n",
       "</pre>\n"
      ],
      "text/plain": [
       "STDOUT: Why don’t scientists trust atoms? Because they make up everything!\n"
      ]
     },
     "metadata": {},
     "output_type": "display_data"
    },
    {
     "data": {
      "text/html": [
       "<pre style=\"white-space:pre;overflow-x:auto;line-height:normal;font-family:Menlo,'DejaVu Sans Mono',consolas,'Courier New',monospace\">STDOUT: END_OF_EXECUTION\n",
       "</pre>\n"
      ],
      "text/plain": [
       "STDOUT: END_OF_EXECUTION\n"
      ]
     },
     "metadata": {},
     "output_type": "display_data"
    },
    {
     "data": {
      "text/html": [
       "<pre style=\"white-space:pre;overflow-x:auto;line-height:normal;font-family:Menlo,'DejaVu Sans Mono',consolas,'Courier New',monospace\">Reading from stderr:\n",
       "</pre>\n"
      ],
      "text/plain": [
       "Reading from stderr:\n"
      ]
     },
     "metadata": {},
     "output_type": "display_data"
    },
    {
     "ename": "KeyboardInterrupt",
     "evalue": "Interrupted by user",
     "output_type": "error",
     "traceback": [
      "\u001b[0;31m---------------------------------------------------------------------------\u001b[0m",
      "\u001b[0;31mKeyboardInterrupt\u001b[0m                         Traceback (most recent call last)",
      "\u001b[1;32m/workspaces/open-interpreter/interpreter/test2.ipynb Cell 2\u001b[0m line \u001b[0;36m2\n\u001b[1;32m    <a href='vscode-notebook-cell://codespaces%2Bjubilant-space-broccoli-5wgj4g5p5j5h7g6r/workspaces/open-interpreter/interpreter/test2.ipynb#W1sdnNjb2RlLXJlbW90ZQ%3D%3D?line=266'>267</a>\u001b[0m     \u001b[39mdel\u001b[39;00m wrapper\n\u001b[1;32m    <a href='vscode-notebook-cell://codespaces%2Bjubilant-space-broccoli-5wgj4g5p5j5h7g6r/workspaces/open-interpreter/interpreter/test2.ipynb#W1sdnNjb2RlLXJlbW90ZQ%3D%3D?line=268'>269</a>\u001b[0m \u001b[39mif\u001b[39;00m \u001b[39m__name__\u001b[39m \u001b[39m==\u001b[39m\u001b[39m'\u001b[39m\u001b[39m__main__\u001b[39m\u001b[39m'\u001b[39m:\n\u001b[0;32m--> <a href='vscode-notebook-cell://codespaces%2Bjubilant-space-broccoli-5wgj4g5p5j5h7g6r/workspaces/open-interpreter/interpreter/test2.ipynb#W1sdnNjb2RlLXJlbW90ZQ%3D%3D?line=269'>270</a>\u001b[0m     test_docker_wrapper()\n",
      "\u001b[1;32m/workspaces/open-interpreter/interpreter/test2.ipynb Cell 2\u001b[0m line \u001b[0;36m2\n\u001b[1;32m    <a href='vscode-notebook-cell://codespaces%2Bjubilant-space-broccoli-5wgj4g5p5j5h7g6r/workspaces/open-interpreter/interpreter/test2.ipynb#W1sdnNjb2RlLXJlbW90ZQ%3D%3D?line=236'>237</a>\u001b[0m \u001b[39mprint\u001b[39m(\u001b[39m\"\u001b[39m\u001b[39mInteractive Docker shell. Type \u001b[39m\u001b[39m'\u001b[39m\u001b[39mexit\u001b[39m\u001b[39m'\u001b[39m\u001b[39m to quit.\u001b[39m\u001b[39m\"\u001b[39m)\n\u001b[1;32m    <a href='vscode-notebook-cell://codespaces%2Bjubilant-space-broccoli-5wgj4g5p5j5h7g6r/workspaces/open-interpreter/interpreter/test2.ipynb#W1sdnNjb2RlLXJlbW90ZQ%3D%3D?line=238'>239</a>\u001b[0m \u001b[39mwhile\u001b[39;00m \u001b[39mTrue\u001b[39;00m:\n\u001b[1;32m    <a href='vscode-notebook-cell://codespaces%2Bjubilant-space-broccoli-5wgj4g5p5j5h7g6r/workspaces/open-interpreter/interpreter/test2.ipynb#W1sdnNjb2RlLXJlbW90ZQ%3D%3D?line=239'>240</a>\u001b[0m     \u001b[39m# Read user input\u001b[39;00m\n\u001b[0;32m--> <a href='vscode-notebook-cell://codespaces%2Bjubilant-space-broccoli-5wgj4g5p5j5h7g6r/workspaces/open-interpreter/interpreter/test2.ipynb#W1sdnNjb2RlLXJlbW90ZQ%3D%3D?line=240'>241</a>\u001b[0m     command \u001b[39m=\u001b[39m \u001b[39minput\u001b[39;49m(\u001b[39m\"\u001b[39;49m\u001b[39m>>> \u001b[39;49m\u001b[39m\"\u001b[39;49m)\n\u001b[1;32m    <a href='vscode-notebook-cell://codespaces%2Bjubilant-space-broccoli-5wgj4g5p5j5h7g6r/workspaces/open-interpreter/interpreter/test2.ipynb#W1sdnNjb2RlLXJlbW90ZQ%3D%3D?line=242'>243</a>\u001b[0m     \u001b[39m# Check for exit command\u001b[39;00m\n\u001b[1;32m    <a href='vscode-notebook-cell://codespaces%2Bjubilant-space-broccoli-5wgj4g5p5j5h7g6r/workspaces/open-interpreter/interpreter/test2.ipynb#W1sdnNjb2RlLXJlbW90ZQ%3D%3D?line=243'>244</a>\u001b[0m     \u001b[39mif\u001b[39;00m command\u001b[39m.\u001b[39mlower() \u001b[39m==\u001b[39m \u001b[39m'\u001b[39m\u001b[39mexit\u001b[39m\u001b[39m'\u001b[39m:\n",
      "File \u001b[0;32m~/.local/lib/python3.10/site-packages/ipykernel/kernelbase.py:1202\u001b[0m, in \u001b[0;36mKernel.raw_input\u001b[0;34m(self, prompt)\u001b[0m\n\u001b[1;32m   1200\u001b[0m     msg \u001b[39m=\u001b[39m \u001b[39m\"\u001b[39m\u001b[39mraw_input was called, but this frontend does not support input requests.\u001b[39m\u001b[39m\"\u001b[39m\n\u001b[1;32m   1201\u001b[0m     \u001b[39mraise\u001b[39;00m StdinNotImplementedError(msg)\n\u001b[0;32m-> 1202\u001b[0m \u001b[39mreturn\u001b[39;00m \u001b[39mself\u001b[39;49m\u001b[39m.\u001b[39;49m_input_request(\n\u001b[1;32m   1203\u001b[0m     \u001b[39mstr\u001b[39;49m(prompt),\n\u001b[1;32m   1204\u001b[0m     \u001b[39mself\u001b[39;49m\u001b[39m.\u001b[39;49m_parent_ident[\u001b[39m\"\u001b[39;49m\u001b[39mshell\u001b[39;49m\u001b[39m\"\u001b[39;49m],\n\u001b[1;32m   1205\u001b[0m     \u001b[39mself\u001b[39;49m\u001b[39m.\u001b[39;49mget_parent(\u001b[39m\"\u001b[39;49m\u001b[39mshell\u001b[39;49m\u001b[39m\"\u001b[39;49m),\n\u001b[1;32m   1206\u001b[0m     password\u001b[39m=\u001b[39;49m\u001b[39mFalse\u001b[39;49;00m,\n\u001b[1;32m   1207\u001b[0m )\n",
      "File \u001b[0;32m~/.local/lib/python3.10/site-packages/ipykernel/kernelbase.py:1245\u001b[0m, in \u001b[0;36mKernel._input_request\u001b[0;34m(self, prompt, ident, parent, password)\u001b[0m\n\u001b[1;32m   1242\u001b[0m \u001b[39mexcept\u001b[39;00m \u001b[39mKeyboardInterrupt\u001b[39;00m:\n\u001b[1;32m   1243\u001b[0m     \u001b[39m# re-raise KeyboardInterrupt, to truncate traceback\u001b[39;00m\n\u001b[1;32m   1244\u001b[0m     msg \u001b[39m=\u001b[39m \u001b[39m\"\u001b[39m\u001b[39mInterrupted by user\u001b[39m\u001b[39m\"\u001b[39m\n\u001b[0;32m-> 1245\u001b[0m     \u001b[39mraise\u001b[39;00m \u001b[39mKeyboardInterrupt\u001b[39;00m(msg) \u001b[39mfrom\u001b[39;00m \u001b[39mNone\u001b[39;00m\n\u001b[1;32m   1246\u001b[0m \u001b[39mexcept\u001b[39;00m \u001b[39mException\u001b[39;00m:\n\u001b[1;32m   1247\u001b[0m     \u001b[39mself\u001b[39m\u001b[39m.\u001b[39mlog\u001b[39m.\u001b[39mwarning(\u001b[39m\"\u001b[39m\u001b[39mInvalid Message:\u001b[39m\u001b[39m\"\u001b[39m, exc_info\u001b[39m=\u001b[39m\u001b[39mTrue\u001b[39;00m)\n",
      "\u001b[0;31mKeyboardInterrupt\u001b[0m: Interrupted by user"
     ]
    }
   ],
   "source": [
    "import struct\n",
    "from docker import DockerClient\n",
    "import docker\n",
    "import os\n",
    "from rich import print\n",
    "import re\n",
    "import time\n",
    "import queue\n",
    "import select\n",
    "\n",
    "\n",
    "\n",
    "import threading\n",
    "import queue\n",
    "import os\n",
    "import select\n",
    "import struct\n",
    "\n",
    "class DockerStreamWrapper:\n",
    "    def __init__(self, exec_id, sock):\n",
    "        self.exec_id = exec_id\n",
    "        self._sock = sock\n",
    "        self._stdout_r, self._stdout_w = os.pipe()\n",
    "        self._stderr_r, self._stderr_w = os.pipe()\n",
    "        self.stdout = self.Stream(self, self._stdout_r)\n",
    "        self.stderr = self.Stream(self, self._stderr_r)\n",
    "\n",
    "        ## stdin pipe and fd. dosent need a pipe, but its easier and thread safe and less mem intensive than a queue.Queue()\n",
    "        self._stdin_r, self._stdin_w = os.pipe()  # Pipe for stdin\n",
    "        self.stdin = os.fdopen(self._stdin_w, 'w')\n",
    "        self._stdin_buffer = b\"\"  # Buffer for stdin data. more complex = better fr\n",
    "\n",
    "        ## start recieving thread to watch socket, and send data from stdin pipe.\n",
    "        self._stop_event = threading.Event()\n",
    "        self._thread = threading.Thread(target=self._listen, daemon=True)\n",
    "        self._thread.start()\n",
    "    \n",
    "    class Stream:\n",
    "        def __init__(self, parent, read_fd):\n",
    "            self.parent = parent\n",
    "            self._read_fd = read_fd\n",
    "            self._buffer = \"\"\n",
    "\n",
    "        def readline(self, timeout=3):\n",
    "            while '\\n' not in self._buffer:\n",
    "                ready_to_read, _, _ = select.select([self._read_fd], [], [], timeout)\n",
    "                if not ready_to_read:\n",
    "                    return None\n",
    "                chunk = os.read(self._read_fd, 1024).decode('utf-8')\n",
    "                self._buffer += chunk\n",
    "\n",
    "            newline_pos = self._buffer.find('\\n')\n",
    "            line = self._buffer[:newline_pos]\n",
    "            self._buffer = self._buffer[newline_pos + 1:]\n",
    "            return line\n",
    "\n",
    "    def _listen(self):\n",
    "        while not self._stop_event.is_set():\n",
    "            ready_to_read, _, _ = select.select([self._sock, self._stdin_r], [], [], 1)\n",
    "            \n",
    "            for s in ready_to_read:\n",
    "                if s == self._sock:\n",
    "                    raw_data = self._sock.recv(2048)\n",
    "                    stdout, stderr = self.demux_docker_stream(raw_data)\n",
    "                    os.write(self._stdout_w, stdout.encode())\n",
    "                    os.write(self._stderr_w, stderr.encode())\n",
    "                elif s == self._stdin_r:\n",
    "                    # Read from the read end of the stdin pipe and add to the buffer\n",
    "                    data_to_write = os.read(self._stdin_r, 2048).decode('utf-8')\n",
    "                    \n",
    "                    # Remove escape characters for quotes but leave other backslashes untouched\n",
    "                    data_to_write =  re.sub(r'\\\\([\\'\"])', r'\\1', data_to_write)\n",
    "\n",
    "                    data_to_write = data_to_write.replace('\\\\n', '\\n')\n",
    "\n",
    "                    self._stdin_buffer += data_to_write.encode()\n",
    "\n",
    "                    # Check for newline and send line by line\n",
    "                    while b'\\n' in self._stdin_buffer:\n",
    "                        newline_pos = self._stdin_buffer.find(b'\\n')\n",
    "                        line = self._stdin_buffer[:newline_pos + 1]  # Include the newline\n",
    "                        self._stdin_buffer = self._stdin_buffer[newline_pos + 1:]\n",
    "\n",
    "\n",
    "                        # Send the line to the Docker container\n",
    "                        self._sock.sendall(line)\n",
    "\n",
    "    def demux_docker_stream(self, data):\n",
    "        stdout = \"\"\n",
    "        stderr = \"\"\n",
    "        offset = 0\n",
    "        while offset + 8 <= len(data):\n",
    "            header = data[offset:offset + 8]\n",
    "            stream_type, length = struct.unpack('>BxxxL', header)\n",
    "            offset += 8\n",
    "            chunk = data[offset:offset + length].decode('utf-8')\n",
    "            offset += length\n",
    "            if stream_type == 1:\n",
    "                stdout += chunk\n",
    "            elif stream_type == 2:\n",
    "                stderr += chunk\n",
    "\n",
    "        return stdout, stderr\n",
    "\n",
    "    def flush(self):\n",
    "        pass\n",
    "\n",
    "    def close(self):\n",
    "        self._stop_event.set()\n",
    "        self._thread.join()\n",
    "        os.close(self._stdout_r)\n",
    "        os.close(self._stdout_w)\n",
    "        os.close(self._stderr_r)\n",
    "        os.close(self._stderr_w)\n",
    "\n",
    "\n",
    "\n",
    "class DockerProcWrapper:\n",
    "    def __init__(self, command, session_path):\n",
    "        self.client = docker.APIClient()\n",
    "        self.image_name = \"openinterpreter-runtime-container:latest\"\n",
    "        self.session_path = session_path\n",
    "        self.id = os.path.basename(session_path)\n",
    "        self.lang = self.extract_language_from_command(command)\n",
    "        self.exec_id = None\n",
    "        self.exec_socket = None\n",
    "\n",
    "        # Initialize container\n",
    "        self.init_container()\n",
    "\n",
    "        self.init_exec_instance(command)\n",
    "        \n",
    "\n",
    "        self.wrapper = DockerStreamWrapper(self.exec_id, self.exec_socket)\n",
    "        self.stdout = self.wrapper.stdout\n",
    "        self.stderr = self.wrapper.stderr\n",
    "        self.stdin = self.wrapper.stdin\n",
    "\n",
    "        self.stdin.write(command + \"\\n\")\n",
    "    def init_container(self):\n",
    "        self.container = None\n",
    "        try:\n",
    "            containers = self.client.containers(\n",
    "                filters={\"label\": f\"session_id={self.id}\"}, all=True)\n",
    "            if containers:\n",
    "                self.container = containers[0]\n",
    "                container_id = self.container.get('Id')\n",
    "                container_info = self.client.inspect_container(container_id)\n",
    "                if container_info.get('State', {}).get('Running') is False:\n",
    "                    print(container_info.get('State', {}))\n",
    "                    self.client.start(container=container_id)\n",
    "                    print(\"waiting for container start\")\n",
    "                    self.wait_for_container_start(container_id)\n",
    "                    print(\"container started\")\n",
    "            else:\n",
    "                volume_binding = {\n",
    "                    self.session_path: {'bind': '/mnt/data', 'mode': 'rw'}\n",
    "                }\n",
    "                env_client = docker.from_env()\n",
    "                self.container = env_client.containers.run(\n",
    "                    self.image_name,\n",
    "                    detach=True,\n",
    "                    command=\"/bin/bash -i\",  # Keep the container running with bash\n",
    "                    labels={'session_id': self.id},\n",
    "                    volumes={self.session_path: {'bind': '/mnt/data', 'mode': 'rw'}},\n",
    "                    user=\"nobody\",  # Run as non-root user for security,\n",
    "                    stdin_open = True,\n",
    "                    tty=False\n",
    "                )\n",
    "                self.client.start(container=self.container.id)\n",
    "                print(\"waiting for container start\")\n",
    "                self.wait_for_container_start(self.container.id)\n",
    "                print(\"container started\")\n",
    "\n",
    "        except Exception as e:\n",
    "            print(f\"An error occurred: {e}\")\n",
    "\n",
    "    def init_exec_instance(self, command):\n",
    "        if self.container:\n",
    "            self.exec_id = self.client.exec_create(\n",
    "                self.container.id,\n",
    "                cmd=\"/bin/bash\",\n",
    "                stdin=True,\n",
    "                stdout=True,\n",
    "                stderr=True,\n",
    "                workdir=\"/mnt/data\",\n",
    "                user=\"nobody\",\n",
    "                tty=False\n",
    "\n",
    "            )['Id']\n",
    "            self.exec_socket = self.client.exec_start(\n",
    "                self.exec_id, socket=True, tty=False, demux=False)._sock\n",
    "            \n",
    "\n",
    "    @staticmethod\n",
    "    def extract_language_from_command(command):\n",
    "        # Normalize the command to lower case for easier searching\n",
    "        command_lower = command.lower()\n",
    "\n",
    "        # Extract Python\n",
    "        if \"python\" in command_lower or os.path.basename(command_lower).startswith(\"python\"):\n",
    "            return \"python\"\n",
    "\n",
    "        # Extract R\n",
    "        if re.search(r'\\bR\\b', command):\n",
    "            return \"r\"\n",
    "\n",
    "        # Extract Shell\n",
    "        if any(shell in command_lower for shell in [\"bash\", \"sh\", \"zsh\", \"fish\"]):\n",
    "            return \"shell\"\n",
    "\n",
    "        # Extract Node.js\n",
    "        if \"node\" in command_lower:\n",
    "            return \"javascript\"\n",
    "\n",
    "        # Return unknown if we can't determine the language\n",
    "        return \"unknown\"\n",
    "\n",
    "    def wait_for_container_start(self, container_id, timeout=30):\n",
    "        start_time = time.time()\n",
    "        while True:\n",
    "            container_info = self.client.inspect_container(container_id)\n",
    "            if container_info.get('State', {}).get('Running') is True:\n",
    "                return True\n",
    "            elif time.time() - start_time > timeout:\n",
    "                raise TimeoutError(\n",
    "                    \"Container did not start within the specified timeout.\")\n",
    "            time.sleep(1)\n",
    "\n",
    "import threading\n",
    "import uuid\n",
    "import uuid\n",
    "def test_docker_wrapper():\n",
    "    # Initialize a DockerProcWrapper instance with bash in interactive mode\n",
    "    wrapper = DockerProcWrapper(\"python3 -i -q -u\", session_path=\"/workspaces/open-interpreter/interpreter/dockerfiles/ses-\" + str(uuid.uuid4()))\n",
    "\n",
    "    print(\"Interactive Docker shell. Type 'exit' to quit.\")\n",
    "\n",
    "    while True:\n",
    "        # Read user input\n",
    "        command = input(\">>> \")\n",
    "        \n",
    "        # Check for exit command\n",
    "        if command.lower() == 'exit':\n",
    "            break\n",
    "\n",
    "        # Send the command to the Docker container\n",
    "        wrapper.stdin.write(command + \"\\n\")\n",
    "        wrapper.stdin.flush()\n",
    "\n",
    "        # Read from stdout and stderr until an empty line is received\n",
    "        print(\"Reading from stdout:\")\n",
    "        while True:\n",
    "            line = wrapper.stdout.readline()\n",
    "            if line is None:\n",
    "                break\n",
    "            print(f\"STDOUT: {line}\")\n",
    "\n",
    "        print(\"Reading from stderr:\")\n",
    "        while True:\n",
    "            line2 = wrapper.stderr.readline()\n",
    "            if not line2:\n",
    "                break\n",
    "            print(f\"STDERR: {line2}\")\n",
    "\n",
    "    # Clean up\n",
    "    del wrapper\n",
    "\n",
    "if __name__ =='__main__':\n",
    "    test_docker_wrapper()"
   ]
  },
  {
   "cell_type": "code",
   "execution_count": null,
   "metadata": {},
   "outputs": [],
   "source": []
  },
  {
   "cell_type": "code",
   "execution_count": null,
   "metadata": {},
   "outputs": [
    {
     "ename": "",
     "evalue": "",
     "output_type": "error",
     "traceback": [
      "\u001b[1;31mThe Kernel crashed while executing code in the the current cell or a previous cell. Please review the code in the cell(s) to identify a possible cause of the failure. Click <a href='https://aka.ms/vscodeJupyterKernelCrash'>here</a> for more info. View Jupyter <a href='command:jupyter.viewOutput'>log</a> for further details."
     ]
    }
   ],
   "source": [
    "import os\n",
    "os._exit(0)\n"
   ]
  }
 ],
 "metadata": {
  "kernelspec": {
   "display_name": "Python 3",
   "language": "python",
   "name": "python3"
  },
  "language_info": {
   "codemirror_mode": {
    "name": "ipython",
    "version": 3
   },
   "file_extension": ".py",
   "mimetype": "text/x-python",
   "name": "python",
   "nbconvert_exporter": "python",
   "pygments_lexer": "ipython3",
   "version": "3.10.8"
  },
  "orig_nbformat": 4
 },
 "nbformat": 4,
 "nbformat_minor": 2
}
